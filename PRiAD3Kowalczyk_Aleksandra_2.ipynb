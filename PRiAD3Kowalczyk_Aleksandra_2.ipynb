{
 "cells": [
  {
   "cell_type": "markdown",
   "metadata": {},
   "source": [
    "# PRiAD 3 - test zaliczający"
   ]
  },
  {
   "cell_type": "markdown",
   "metadata": {},
   "source": [
    "Test obejmuje materiał z ćwiczenia PRiAD3, wymaga także znajmości zagadnień z wcześniejszych ćwiczeń."
   ]
  },
  {
   "cell_type": "markdown",
   "metadata": {},
   "source": [
    "> **Zadanie 1** Napisz funkcję zliczającą brakujące dane w ramce będącej jej argumentem. Funkcja powinna zwracać dwie listy (lub wektory albo słowniki) - pierwsza zawierające liczby braków w kolejnych obiektach (wiersze), druga dla kolejnych atrybutów (kolumny). Oprócz kodu funkcji napisz kod testujący jej działanie."
   ]
  },
  {
   "cell_type": "code",
   "execution_count": 4,
   "metadata": {},
   "outputs": [
    {
     "name": "stdout",
     "output_type": "stream",
     "text": [
      "({'a': 0, 'b': 4, 'c': 0, 'd': 2, 'e': 2, 'f': 0, 'g': 0}, {'A': 2, 'B': 1, 'C': 2, 'D': 3, 'E': 0})\n"
     ]
    },
    {
     "data": {
      "text/html": [
       "<div>\n",
       "<style scoped>\n",
       "    .dataframe tbody tr th:only-of-type {\n",
       "        vertical-align: middle;\n",
       "    }\n",
       "\n",
       "    .dataframe tbody tr th {\n",
       "        vertical-align: top;\n",
       "    }\n",
       "\n",
       "    .dataframe thead th {\n",
       "        text-align: right;\n",
       "    }\n",
       "</style>\n",
       "<table border=\"1\" class=\"dataframe\">\n",
       "  <thead>\n",
       "    <tr style=\"text-align: right;\">\n",
       "      <th></th>\n",
       "      <th>A</th>\n",
       "      <th>B</th>\n",
       "      <th>C</th>\n",
       "      <th>D</th>\n",
       "      <th>E</th>\n",
       "    </tr>\n",
       "  </thead>\n",
       "  <tbody>\n",
       "    <tr>\n",
       "      <th>a</th>\n",
       "      <td>-1.286177</td>\n",
       "      <td>-0.142541</td>\n",
       "      <td>0.582685</td>\n",
       "      <td>-0.524238</td>\n",
       "      <td>0.036819</td>\n",
       "    </tr>\n",
       "    <tr>\n",
       "      <th>b</th>\n",
       "      <td>NaN</td>\n",
       "      <td>NaN</td>\n",
       "      <td>NaN</td>\n",
       "      <td>NaN</td>\n",
       "      <td>999.000000</td>\n",
       "    </tr>\n",
       "    <tr>\n",
       "      <th>c</th>\n",
       "      <td>0.458187</td>\n",
       "      <td>-1.777884</td>\n",
       "      <td>-1.120146</td>\n",
       "      <td>0.467789</td>\n",
       "      <td>0.408319</td>\n",
       "    </tr>\n",
       "    <tr>\n",
       "      <th>d</th>\n",
       "      <td>NaN</td>\n",
       "      <td>-0.521105</td>\n",
       "      <td>-0.269104</td>\n",
       "      <td>NaN</td>\n",
       "      <td>0.551942</td>\n",
       "    </tr>\n",
       "    <tr>\n",
       "      <th>e</th>\n",
       "      <td>-0.861589</td>\n",
       "      <td>-0.195414</td>\n",
       "      <td>NaN</td>\n",
       "      <td>NaN</td>\n",
       "      <td>0.399140</td>\n",
       "    </tr>\n",
       "    <tr>\n",
       "      <th>f</th>\n",
       "      <td>0.797013</td>\n",
       "      <td>-0.620075</td>\n",
       "      <td>-0.294132</td>\n",
       "      <td>-1.729875</td>\n",
       "      <td>1.989372</td>\n",
       "    </tr>\n",
       "    <tr>\n",
       "      <th>g</th>\n",
       "      <td>-1.188945</td>\n",
       "      <td>1.288110</td>\n",
       "      <td>-0.693757</td>\n",
       "      <td>-0.477191</td>\n",
       "      <td>-1.337682</td>\n",
       "    </tr>\n",
       "  </tbody>\n",
       "</table>\n",
       "</div>"
      ],
      "text/plain": [
       "          A         B         C         D           E\n",
       "a -1.286177 -0.142541  0.582685 -0.524238    0.036819\n",
       "b       NaN       NaN       NaN       NaN  999.000000\n",
       "c  0.458187 -1.777884 -1.120146  0.467789    0.408319\n",
       "d       NaN -0.521105 -0.269104       NaN    0.551942\n",
       "e -0.861589 -0.195414       NaN       NaN    0.399140\n",
       "f  0.797013 -0.620075 -0.294132 -1.729875    1.989372\n",
       "g -1.188945  1.288110 -0.693757 -0.477191   -1.337682"
      ]
     },
     "execution_count": 4,
     "metadata": {},
     "output_type": "execute_result"
    }
   ],
   "source": [
    "import numpy as np\n",
    "import pandas as pd\n",
    "import seaborn as sns\n",
    "import matplotlib.pyplot as plt\n",
    "\n",
    "def countNan(df):\n",
    "    columns = pd.isnull(df).sum().to_dict()\n",
    "    rows = {}\n",
    "    for i in range(len(df.index)) :\n",
    "        rows.update({str(df.index[i]): df.iloc[i].isnull().sum()})\n",
    "    return rows, columns\n",
    "\n",
    "\n",
    "df = pd.DataFrame(np.random.randn(7,5),columns=list('ABCDE'),  index = ['a','b','c','d','e','f','g'])\n",
    "df.iloc[3,0] = np.nan\n",
    "df.iloc[3,3] = np.nan\n",
    "df.iloc[4,2] = np.nan\n",
    "df.iloc[4,3] = np.nan\n",
    "df.iloc[1,:] = [np.nan,np.nan,np.nan,np.nan,999]\n",
    "\n",
    "print(countNan(df))\n",
    "df"
   ]
  },
  {
   "cell_type": "markdown",
   "metadata": {},
   "source": [
    "> **Zadanie 2** W pliku `pasazerowie_lot.xls` zawarte są dane o liczbie pasażerów samolotów w latach 2005-16 w państwach należących do Unii Europejskiej oraz z nią stowarzyszonych. Dane pochodzą z [serwisu internetowego EUROSTAT-u](http://ec.europa.eu/eurostat/data/database). Wykonaj następujące zadania:\n",
    "* wczytaj plik \n",
    "* zastanów się, jaka jest najwygodniesza postać ramki danych do dalszego przetwarzania - przekształć dane do tej postaci\n",
    "* usuń wszystkie obiekty, w których występuje choć jeden brak\n",
    "* narysuj wykres słupkowy pokazujący łączną liczbę przewiezionych pasażerów z podziałem na lata, słupki powinny być posortowane od najkrótszego (najmniej pasażerów), do najdłuższego (najwięcej przewiezionych pasażerów)\n",
    "* znajdź państwa o największym i najmniejszym bezwzględnym przyroście liczby pasażerów w całym obserwowanym okresie\n",
    "* znajdź lata o największym i najmniejszym przyroście liczby pasażerów w Polsce"
   ]
  },
  {
   "cell_type": "code",
   "execution_count": 118,
   "metadata": {},
   "outputs": [
    {
     "name": "stdout",
     "output_type": "stream",
     "text": [
      "{'Maximum in country': 'Germany', 'Minimum in country': 'Slovenia'}\n",
      "{'Polish maximum': '2006', 'Polish minimum': '2009'}\n"
     ]
    },
    {
     "data": {
      "image/png": "[encoded data removed]",
      "text/plain": [
       "<Figure size 432x288 with 1 Axes>"
      ]
     },
     "metadata": {
      "needs_background": "light"
     },
     "output_type": "display_data"
    }
   ],
   "source": [
    "def maxMinInWhichCountry(df):\n",
    "    df = df['2016'] - df['2005']\n",
    "    values1 = {'Maximum in country': pd.to_numeric(df).idxmax(), 'Minimum in country': pd.to_numeric(df).idxmin()}\n",
    "    return values1\n",
    "\n",
    "def maxMinInPoland(df):\n",
    "    df1 = pd.to_numeric(df[df.index == 'Poland'].transpose().diff(axis = 0).transpose().iloc[0])\n",
    "    values2 = {'Polish maximum': df1.idxmax(), 'Polish minimum': df1.idxmin()}\n",
    "    return values2\n",
    "\n",
    "df = pd.read_excel('pasazerowie_lot.xls', header = 2, index_col = 0)\n",
    "df = df.dropna(how = 'any')\n",
    "df.sum().sort_values(ascending = False).plot(kind = 'barh')\n",
    "\n",
    "print(maxMinInWhichCountry(df))\n",
    "print(maxMinInPoland(df))"
   ]
  },
  {
   "cell_type": "markdown",
   "metadata": {},
   "source": [
    "> **Zadanie 3** Wczytaj dane dowolnego z dwóch plików zawierających kursy walut. Wykorzystujac miary tendencji centralnej oraz miary rozrzutu określ dla każdej waluty w którym półroczu którego roku (rozważ jedynie półrocza, dla których znane są wszystkie kursy) kurs był najwyższy, najniższy (biorąc pod uwagę jego wartość średnią w danym okresie) oraz wykazywał największą zmienność."
   ]
  },
  {
   "cell_type": "code",
   "execution_count": 35,
   "metadata": {},
   "outputs": [
    {
     "name": "stdout",
     "output_type": "stream",
     "text": [
      "Kurs waluty CHF \n",
      " Najwyższy w: (2010, '2 półrocze'), najniższy w: (2008, '1 półrocze'), największa zmienność: w (2008, '2 półrocze')\n",
      "\n",
      "Kurs waluty USD \n",
      " Najwyższy w: (2009, '1 półrocze'), najniższy w: (2008, '1 półrocze'), największa zmienność: w (2008, '2 półrocze')\n",
      "\n",
      "Kurs waluty EUR \n",
      " Najwyższy w: (2009, '1 półrocze'), najniższy w: (2008, '1 półrocze'), największa zmienność: w (2008, '2 półrocze')\n",
      "\n",
      "Kurs waluty JPY \n",
      " Najwyższy w: (2010, '2 półrocze'), najniższy w: (2008, '1 półrocze'), największa zmienność: w (2008, '2 półrocze')\n",
      "\n"
     ]
    }
   ],
   "source": [
    "w= pd.read_excel('waluty1.xls', header = 0, usecols = {0,1,3,4,5,6})\n",
    "w.index = pd.to_datetime(w['rok'].map(str) + \"-\" + w['mies'].map(str))\n",
    "w = w.dropna(how = 'any')\n",
    "w_group = w.groupby( ['rok',w['mies']<=6] )\n",
    "w_mean = w_group.mean()\n",
    "w_std = w_group.std()\n",
    "w_mean.rename(index={True:'1 półrocze', False: '2 półrocze'},inplace=True)\n",
    "w_std.rename(index={True:'1 półrocze', False: '2 półrocze'},inplace=True)\n",
    "\n",
    "for f in range(1, 5):\n",
    "        print(\"Kurs waluty %s \\n Najwyższy w: %s, najniższy w: %s, największa zmienność: w %s\\n\"\n",
    "              %(w_mean.columns.values[f], w_mean.iloc[:,f].idxmax(), w_mean.iloc[:,f].idxmin(), w_std.iloc[:,f].idxmax()))"
   ]
  },
  {
   "cell_type": "markdown",
   "metadata": {},
   "source": [
    "> **Zadanie 4** Zmień nazwę tego skryptu na następującą \"PRiAD3zal_Imię_Nazwisko.ipynb\" i wgraj wgraj go do ISOD-a we wskazane miejsce, nie przekraczając wyznaczonego terminu."
   ]
  },
  {
   "cell_type": "markdown",
   "metadata": {},
   "source": [
    "*Wersja na rok. akad. 20/21*"
   ]
  },
  {
   "cell_type": "code",
   "execution_count": null,
   "metadata": {},
   "outputs": [],
   "source": []
  }
 ],
 "metadata": {
  "kernelspec": {
   "display_name": "Python 3",
   "language": "python",
   "name": "python3"
  },
  "language_info": {
   "codemirror_mode": {
    "name": "ipython",
    "version": 3
   },
   "file_extension": ".py",
   "mimetype": "text/x-python",
   "name": "python",
   "nbconvert_exporter": "python",
   "pygments_lexer": "ipython3",
   "version": "3.8.3"
  }
 },
 "nbformat": 4,
 "nbformat_minor": 4
}
