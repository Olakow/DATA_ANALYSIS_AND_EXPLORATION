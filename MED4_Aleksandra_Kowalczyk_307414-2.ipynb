{
 "cells": [
  {
   "cell_type": "markdown",
   "metadata": {},
   "source": [
    "# LAB 3: Regresja wieloraka"
   ]
  },
  {
   "cell_type": "code",
   "execution_count": 253,
   "metadata": {},
   "outputs": [],
   "source": [
    "#Aleksandra Kowalczyk\n",
    "# 307414"
   ]
  },
  {
   "cell_type": "markdown",
   "metadata": {},
   "source": [
    "Prognozowanie cen domów (wiele zmiennych)\n",
    "\n",
    "W tym notatniku wykorzystamy dane dotyczące sprzedaży domów. Przewidywanie ich ceny zostanie dokonane przy pomocy regresji wielorakiej. Pierwsze zadanie dotyczy eksploracji regresji wielorakiej poprzez opracowanie nowych cech i pomiar błędu. W drugim zadaniu zaimplementować należy algorytm spadku gradientu.\n",
    "\n",
    "     Użyj wbudowanych funkcji tworzenia wykresów (lub w inny sposób), aby obliczyć wagi regresji (współczynniki)\n",
    "     Biorąc pod uwagę wagi regresji, predyktory i wynik napisz funkcję obliczającą resztkową sumę kwadratów\n",
    "     Spójrz na współczynniki i zinterpretuj ich znaczenie\n",
    "     Oceń wiele modeli za pomocą RSS"
   ]
  },
  {
   "cell_type": "markdown",
   "metadata": {},
   "source": [
    "# Potrzebne biblioteki"
   ]
  },
  {
   "cell_type": "code",
   "execution_count": 2,
   "metadata": {},
   "outputs": [],
   "source": [
    "import pandas as pd\n",
    "import numpy as np"
   ]
  },
  {
   "cell_type": "markdown",
   "metadata": {},
   "source": [
    "# Wczytanie danych ceny domów \n",
    "\n",
    "Zestaw danych pochodzi ze sprzedaży domów w King County, regionie, w którym znajduje się miasto Seattle w stanie Waszyngton."
   ]
  },
  {
   "cell_type": "code",
   "execution_count": 254,
   "metadata": {
    "scrolled": true
   },
   "outputs": [],
   "source": [
    "dtype_dict = {'bathrooms':float, 'waterfront':int, 'sqft_above':int, 'sqft_living15':float, 'grade':int, 'yr_renovated':int, 'price':float, 'bedrooms':float, 'zipcode':str, 'long':float, 'sqft_lot15':float, 'sqft_living':float, 'floors':str, 'condition':int, 'lat':float, 'date':str, 'sqft_basement':int, 'yr_built':int, 'id':str, 'sqft_lot':int, 'view':int}\n",
    "domy = pd.read_csv('kc_house_data.csv',sep=',', dtype=dtype_dict)"
   ]
  },
  {
   "cell_type": "code",
   "execution_count": 255,
   "metadata": {},
   "outputs": [
    {
     "data": {
      "text/html": [
       "<div>\n",
       "<style scoped>\n",
       "    .dataframe tbody tr th:only-of-type {\n",
       "        vertical-align: middle;\n",
       "    }\n",
       "\n",
       "    .dataframe tbody tr th {\n",
       "        vertical-align: top;\n",
       "    }\n",
       "\n",
       "    .dataframe thead th {\n",
       "        text-align: right;\n",
       "    }\n",
       "</style>\n",
       "<table border=\"1\" class=\"dataframe\">\n",
       "  <thead>\n",
       "    <tr style=\"text-align: right;\">\n",
       "      <th></th>\n",
       "      <th>id</th>\n",
       "      <th>date</th>\n",
       "      <th>price</th>\n",
       "      <th>bedrooms</th>\n",
       "      <th>bathrooms</th>\n",
       "      <th>sqft_living</th>\n",
       "      <th>sqft_lot</th>\n",
       "      <th>floors</th>\n",
       "      <th>waterfront</th>\n",
       "      <th>view</th>\n",
       "      <th>...</th>\n",
       "      <th>grade</th>\n",
       "      <th>sqft_above</th>\n",
       "      <th>sqft_basement</th>\n",
       "      <th>yr_built</th>\n",
       "      <th>yr_renovated</th>\n",
       "      <th>zipcode</th>\n",
       "      <th>lat</th>\n",
       "      <th>long</th>\n",
       "      <th>sqft_living15</th>\n",
       "      <th>sqft_lot15</th>\n",
       "    </tr>\n",
       "  </thead>\n",
       "  <tbody>\n",
       "    <tr>\n",
       "      <th>0</th>\n",
       "      <td>7129300520</td>\n",
       "      <td>20141013T000000</td>\n",
       "      <td>221900.0</td>\n",
       "      <td>3.0</td>\n",
       "      <td>1.00</td>\n",
       "      <td>1180.0</td>\n",
       "      <td>5650</td>\n",
       "      <td>1</td>\n",
       "      <td>0</td>\n",
       "      <td>0</td>\n",
       "      <td>...</td>\n",
       "      <td>7</td>\n",
       "      <td>1180</td>\n",
       "      <td>0</td>\n",
       "      <td>1955</td>\n",
       "      <td>0</td>\n",
       "      <td>98178</td>\n",
       "      <td>47.5112</td>\n",
       "      <td>-122.257</td>\n",
       "      <td>1340.0</td>\n",
       "      <td>5650.0</td>\n",
       "    </tr>\n",
       "    <tr>\n",
       "      <th>1</th>\n",
       "      <td>6414100192</td>\n",
       "      <td>20141209T000000</td>\n",
       "      <td>538000.0</td>\n",
       "      <td>3.0</td>\n",
       "      <td>2.25</td>\n",
       "      <td>2570.0</td>\n",
       "      <td>7242</td>\n",
       "      <td>2</td>\n",
       "      <td>0</td>\n",
       "      <td>0</td>\n",
       "      <td>...</td>\n",
       "      <td>7</td>\n",
       "      <td>2170</td>\n",
       "      <td>400</td>\n",
       "      <td>1951</td>\n",
       "      <td>1991</td>\n",
       "      <td>98125</td>\n",
       "      <td>47.7210</td>\n",
       "      <td>-122.319</td>\n",
       "      <td>1690.0</td>\n",
       "      <td>7639.0</td>\n",
       "    </tr>\n",
       "    <tr>\n",
       "      <th>2</th>\n",
       "      <td>5631500400</td>\n",
       "      <td>20150225T000000</td>\n",
       "      <td>180000.0</td>\n",
       "      <td>2.0</td>\n",
       "      <td>1.00</td>\n",
       "      <td>770.0</td>\n",
       "      <td>10000</td>\n",
       "      <td>1</td>\n",
       "      <td>0</td>\n",
       "      <td>0</td>\n",
       "      <td>...</td>\n",
       "      <td>6</td>\n",
       "      <td>770</td>\n",
       "      <td>0</td>\n",
       "      <td>1933</td>\n",
       "      <td>0</td>\n",
       "      <td>98028</td>\n",
       "      <td>47.7379</td>\n",
       "      <td>-122.233</td>\n",
       "      <td>2720.0</td>\n",
       "      <td>8062.0</td>\n",
       "    </tr>\n",
       "    <tr>\n",
       "      <th>3</th>\n",
       "      <td>2487200875</td>\n",
       "      <td>20141209T000000</td>\n",
       "      <td>604000.0</td>\n",
       "      <td>4.0</td>\n",
       "      <td>3.00</td>\n",
       "      <td>1960.0</td>\n",
       "      <td>5000</td>\n",
       "      <td>1</td>\n",
       "      <td>0</td>\n",
       "      <td>0</td>\n",
       "      <td>...</td>\n",
       "      <td>7</td>\n",
       "      <td>1050</td>\n",
       "      <td>910</td>\n",
       "      <td>1965</td>\n",
       "      <td>0</td>\n",
       "      <td>98136</td>\n",
       "      <td>47.5208</td>\n",
       "      <td>-122.393</td>\n",
       "      <td>1360.0</td>\n",
       "      <td>5000.0</td>\n",
       "    </tr>\n",
       "    <tr>\n",
       "      <th>4</th>\n",
       "      <td>1954400510</td>\n",
       "      <td>20150218T000000</td>\n",
       "      <td>510000.0</td>\n",
       "      <td>3.0</td>\n",
       "      <td>2.00</td>\n",
       "      <td>1680.0</td>\n",
       "      <td>8080</td>\n",
       "      <td>1</td>\n",
       "      <td>0</td>\n",
       "      <td>0</td>\n",
       "      <td>...</td>\n",
       "      <td>8</td>\n",
       "      <td>1680</td>\n",
       "      <td>0</td>\n",
       "      <td>1987</td>\n",
       "      <td>0</td>\n",
       "      <td>98074</td>\n",
       "      <td>47.6168</td>\n",
       "      <td>-122.045</td>\n",
       "      <td>1800.0</td>\n",
       "      <td>7503.0</td>\n",
       "    </tr>\n",
       "  </tbody>\n",
       "</table>\n",
       "<p>5 rows × 21 columns</p>\n",
       "</div>"
      ],
      "text/plain": [
       "           id             date     price  bedrooms  bathrooms  sqft_living  \\\n",
       "0  7129300520  20141013T000000  221900.0       3.0       1.00       1180.0   \n",
       "1  6414100192  20141209T000000  538000.0       3.0       2.25       2570.0   \n",
       "2  5631500400  20150225T000000  180000.0       2.0       1.00        770.0   \n",
       "3  2487200875  20141209T000000  604000.0       4.0       3.00       1960.0   \n",
       "4  1954400510  20150218T000000  510000.0       3.0       2.00       1680.0   \n",
       "\n",
       "   sqft_lot floors  waterfront  view  ...  grade  sqft_above  sqft_basement  \\\n",
       "0      5650      1           0     0  ...      7        1180              0   \n",
       "1      7242      2           0     0  ...      7        2170            400   \n",
       "2     10000      1           0     0  ...      6         770              0   \n",
       "3      5000      1           0     0  ...      7        1050            910   \n",
       "4      8080      1           0     0  ...      8        1680              0   \n",
       "\n",
       "   yr_built  yr_renovated  zipcode      lat     long  sqft_living15  \\\n",
       "0      1955             0    98178  47.5112 -122.257         1340.0   \n",
       "1      1951          1991    98125  47.7210 -122.319         1690.0   \n",
       "2      1933             0    98028  47.7379 -122.233         2720.0   \n",
       "3      1965             0    98136  47.5208 -122.393         1360.0   \n",
       "4      1987             0    98074  47.6168 -122.045         1800.0   \n",
       "\n",
       "   sqft_lot15  \n",
       "0      5650.0  \n",
       "1      7639.0  \n",
       "2      8062.0  \n",
       "3      5000.0  \n",
       "4      7503.0  \n",
       "\n",
       "[5 rows x 21 columns]"
      ]
     },
     "execution_count": 255,
     "metadata": {},
     "output_type": "execute_result"
    }
   ],
   "source": [
    "domy.head(5)"
   ]
  },
  {
   "cell_type": "markdown",
   "metadata": {},
   "source": [
    "# Podziel dane na uczące i testowe.\n",
    "Używamy seed = 0, aby każdy, kto korzysta z tego notebooka, uzyskał te same wyniki. W praktyce możesz ustawić losowy podział."
   ]
  },
  {
   "cell_type": "code",
   "execution_count": 256,
   "metadata": {},
   "outputs": [
    {
     "data": {
      "text/plain": [
       "array(['id', 'date', 'bedrooms', 'bathrooms', 'sqft_living', 'sqft_lot',\n",
       "       'floors', 'waterfront', 'view', 'condition', 'grade', 'sqft_above',\n",
       "       'sqft_basement', 'yr_built', 'yr_renovated', 'zipcode', 'lat',\n",
       "       'long', 'sqft_living15', 'sqft_lot15'], dtype=object)"
      ]
     },
     "execution_count": 256,
     "metadata": {},
     "output_type": "execute_result"
    }
   ],
   "source": [
    "y = domy['price']\n",
    "X = domy.drop(['price'], axis=1)\n",
    "features = X.columns.values\n",
    "features "
   ]
  },
  {
   "cell_type": "code",
   "execution_count": 257,
   "metadata": {},
   "outputs": [],
   "source": [
    "from sklearn.model_selection import train_test_split\n",
    "X_train, X_test, y_train, y_test = train_test_split(X, y, test_size=0.2, random_state=0)"
   ]
  },
  {
   "cell_type": "markdown",
   "metadata": {},
   "source": [
    "# Nauka modelu regresji wielorakiej"
   ]
  },
  {
   "cell_type": "markdown",
   "metadata": {},
   "source": [
    "Wykorzystując cechy 'sqft_living', 'bedrooms', 'bathrooms' uczymy nasz model."
   ]
  },
  {
   "cell_type": "code",
   "execution_count": 258,
   "metadata": {},
   "outputs": [],
   "source": [
    "example_features = ['sqft_living', 'bedrooms', 'bathrooms']\n",
    "\n",
    "data = X_train[example_features]\n",
    "list_data = list(data)\n",
    "\n",
    "my_X = pd.DataFrame({'X_0' :np.ones((len(data))), 'sqft_living':data[list_data[0]],'bedrooms':data[list_data[1]],'bathrooms':data[list_data[2]] })\n",
    "i = 0\n",
    "\n",
    "\n",
    "pinw = np.linalg.pinv(my_X)\n",
    "w = np.dot(pinw,y_train)"
   ]
  },
  {
   "cell_type": "markdown",
   "metadata": {},
   "source": [
    "Po dopasowaniu modelu możemy wyodrębnić współczynniki (wagi) modelu regresji:"
   ]
  },
  {
   "cell_type": "code",
   "execution_count": 259,
   "metadata": {},
   "outputs": [
    {
     "name": "stdout",
     "output_type": "stream",
     "text": [
      "Otrzymane współczynniki: [ 67512.01513809    313.17055038 -56754.66651422   6887.71910816]\n"
     ]
    }
   ],
   "source": [
    "print('Otrzymane współczynniki:', w)"
   ]
  },
  {
   "cell_type": "markdown",
   "metadata": {},
   "source": [
    "# Przewidywanie wartości modelu\n",
    "\n",
    "Mając wyliczone parametry modelu napisz funkcję do przewidywania wartości dla zadanego modelu"
   ]
  },
  {
   "cell_type": "code",
   "execution_count": 260,
   "metadata": {},
   "outputs": [],
   "source": [
    "def predict_output(feature_matrix, weights):\n",
    "    \n",
    "    predictions_output = np.dot(feature_matrix, weights)\n",
    "    return(predictions_output)"
   ]
  },
  {
   "cell_type": "code",
   "execution_count": 261,
   "metadata": {},
   "outputs": [
    {
     "data": {
      "text/plain": [
       "array([395813.49880289, 471910.89304528, 248935.49417374, ...,\n",
       "       651827.88248964, 596482.9917022 , 601336.62698305])"
      ]
     },
     "execution_count": 261,
     "metadata": {},
     "output_type": "execute_result"
    }
   ],
   "source": [
    "data = X_train[example_features]\n",
    "my_X = pd.DataFrame({'sqft_living':data[list_data[0]],'bedrooms':data[list_data[1]],'bathrooms':data[list_data[2]] })\n",
    "my_X.insert(loc= 0,column= 'X_0', value = np.ones((len(my_X))))\n",
    "predict_output(my_X,w)"
   ]
  },
  {
   "cell_type": "markdown",
   "metadata": {},
   "source": [
    "# Wyliczamy błąd (SSE -  sum of squared estimate of errors)"
   ]
  },
  {
   "cell_type": "markdown",
   "metadata": {},
   "source": [
    "Teraz, gdy możemy wykonać przewidywania na podstawie modelu, napiszmy funkcję obliczającą RSS modelu. Wykonaj poniższą funkcję, aby obliczy sumę kwadratów błędu estymacji (SSE) na podstawie modelu, danych i wyniku."
   ]
  },
  {
   "cell_type": "code",
   "execution_count": 262,
   "metadata": {},
   "outputs": [],
   "source": [
    "def policz_SSE(w, data, outcome):\n",
    "    \n",
    "    # Wylicz przewidywaną wartość\n",
    "    data.insert(loc= 0,column= 'X_0', value = np.ones((len(data))))\n",
    "\n",
    "    f = predict_output(data,w)\n",
    "\n",
    "    # Policz błąd bezwzglęny\n",
    "    e_abs = f-outcome\n",
    "    \n",
    "    # Podnieś błędy do kwadratu i zsumuj je\n",
    "    SSE = np.sum(e_abs**2)\n",
    "\n",
    "    return(SSE)    "
   ]
  },
  {
   "cell_type": "markdown",
   "metadata": {},
   "source": [
    "Przetestuj swoją funkcję obliczając błąd SSE z danych TEST dla przykładowego modelu:"
   ]
  },
  {
   "cell_type": "code",
   "execution_count": 263,
   "metadata": {},
   "outputs": [
    {
     "name": "stdout",
     "output_type": "stream",
     "text": [
      "259213572106088.06\n"
     ]
    }
   ],
   "source": [
    "# testuję dla danych TEST:\n",
    "data = X_test[example_features]\n",
    "# współczynniki mam już wyliczone powyżej\n",
    "\n",
    "rss_example_test = policz_SSE(w, data, y_test)\n",
    "print(rss_example_test) "
   ]
  },
  {
   "cell_type": "markdown",
   "metadata": {},
   "source": [
    "# Utwórz nowe cechy"
   ]
  },
  {
   "cell_type": "markdown",
   "metadata": {},
   "source": [
    "Mimo iż nasz model regresji wielorakiej obejmuje wiele różnych cech (np. ilosc_sypiani, powierzchnia i ilosc_lazienek) możemy również rozważyć przekształcenie istniejących cech, np. log(powierzchnia), czy nawet mnożenie ilości sypialni i łazienek."
   ]
  },
  {
   "cell_type": "markdown",
   "metadata": {},
   "source": [
    "Użyjemy funkcji logarytmu, aby utworzyć nowe cechy, więc najpierw powinieneś importujemy ją z biblioteki matematycznej."
   ]
  },
  {
   "cell_type": "code",
   "execution_count": 18,
   "metadata": {},
   "outputs": [],
   "source": [
    "from math import log"
   ]
  },
  {
   "cell_type": "markdown",
   "metadata": {},
   "source": [
    "Następnie utwórz następujące 4 nowe cechy jako kolumny w danych TRENINGOWYCH i TESTOWYCH:\n",
    "* bedrooms_squared = bedrooms\\*bedrooms\n",
    "* bed_bath_rooms = bedrooms\\*bathrooms\n",
    "* log_sqft_living = log(sqft_living)\n",
    "* lat_plus_long = lat + long \n",
    "Jako przykład oto pierwsza:"
   ]
  },
  {
   "cell_type": "code",
   "execution_count": 264,
   "metadata": {},
   "outputs": [
    {
     "name": "stderr",
     "output_type": "stream",
     "text": [
      "<ipython-input-264-007d62de25dd>:1: SettingWithCopyWarning: \n",
      "A value is trying to be set on a copy of a slice from a DataFrame.\n",
      "Try using .loc[row_indexer,col_indexer] = value instead\n",
      "\n",
      "See the caveats in the documentation: https://pandas.pydata.org/pandas-docs/stable/user_guide/indexing.html#returning-a-view-versus-a-copy\n",
      "  X_train['bedrooms_squared'] = X_train['bedrooms'].apply(lambda x: x**2)\n",
      "<ipython-input-264-007d62de25dd>:2: SettingWithCopyWarning: \n",
      "A value is trying to be set on a copy of a slice from a DataFrame.\n",
      "Try using .loc[row_indexer,col_indexer] = value instead\n",
      "\n",
      "See the caveats in the documentation: https://pandas.pydata.org/pandas-docs/stable/user_guide/indexing.html#returning-a-view-versus-a-copy\n",
      "  X_test['bedrooms_squared'] = X_test['bedrooms'].apply(lambda x: x**2)\n"
     ]
    },
    {
     "data": {
      "text/html": [
       "<div>\n",
       "<style scoped>\n",
       "    .dataframe tbody tr th:only-of-type {\n",
       "        vertical-align: middle;\n",
       "    }\n",
       "\n",
       "    .dataframe tbody tr th {\n",
       "        vertical-align: top;\n",
       "    }\n",
       "\n",
       "    .dataframe thead th {\n",
       "        text-align: right;\n",
       "    }\n",
       "</style>\n",
       "<table border=\"1\" class=\"dataframe\">\n",
       "  <thead>\n",
       "    <tr style=\"text-align: right;\">\n",
       "      <th></th>\n",
       "      <th>id</th>\n",
       "      <th>date</th>\n",
       "      <th>bedrooms</th>\n",
       "      <th>bathrooms</th>\n",
       "      <th>sqft_living</th>\n",
       "      <th>sqft_lot</th>\n",
       "      <th>floors</th>\n",
       "      <th>waterfront</th>\n",
       "      <th>view</th>\n",
       "      <th>condition</th>\n",
       "      <th>...</th>\n",
       "      <th>sqft_above</th>\n",
       "      <th>sqft_basement</th>\n",
       "      <th>yr_built</th>\n",
       "      <th>yr_renovated</th>\n",
       "      <th>zipcode</th>\n",
       "      <th>lat</th>\n",
       "      <th>long</th>\n",
       "      <th>sqft_living15</th>\n",
       "      <th>sqft_lot15</th>\n",
       "      <th>bedrooms_squared</th>\n",
       "    </tr>\n",
       "  </thead>\n",
       "  <tbody>\n",
       "    <tr>\n",
       "      <th>17384</th>\n",
       "      <td>1453602313</td>\n",
       "      <td>20141029T000000</td>\n",
       "      <td>2.0</td>\n",
       "      <td>1.50</td>\n",
       "      <td>1430.0</td>\n",
       "      <td>1650</td>\n",
       "      <td>3</td>\n",
       "      <td>0</td>\n",
       "      <td>0</td>\n",
       "      <td>3</td>\n",
       "      <td>...</td>\n",
       "      <td>1430</td>\n",
       "      <td>0</td>\n",
       "      <td>1999</td>\n",
       "      <td>0</td>\n",
       "      <td>98125</td>\n",
       "      <td>47.7222</td>\n",
       "      <td>-122.290</td>\n",
       "      <td>1430.0</td>\n",
       "      <td>1650.0</td>\n",
       "      <td>4.0</td>\n",
       "    </tr>\n",
       "    <tr>\n",
       "      <th>722</th>\n",
       "      <td>2225059214</td>\n",
       "      <td>20140808T000000</td>\n",
       "      <td>4.0</td>\n",
       "      <td>3.25</td>\n",
       "      <td>4670.0</td>\n",
       "      <td>51836</td>\n",
       "      <td>2</td>\n",
       "      <td>0</td>\n",
       "      <td>0</td>\n",
       "      <td>4</td>\n",
       "      <td>...</td>\n",
       "      <td>4670</td>\n",
       "      <td>0</td>\n",
       "      <td>1988</td>\n",
       "      <td>0</td>\n",
       "      <td>98005</td>\n",
       "      <td>47.6350</td>\n",
       "      <td>-122.164</td>\n",
       "      <td>4230.0</td>\n",
       "      <td>41075.0</td>\n",
       "      <td>16.0</td>\n",
       "    </tr>\n",
       "    <tr>\n",
       "      <th>2680</th>\n",
       "      <td>2768000270</td>\n",
       "      <td>20140625T000000</td>\n",
       "      <td>2.0</td>\n",
       "      <td>0.75</td>\n",
       "      <td>1440.0</td>\n",
       "      <td>3700</td>\n",
       "      <td>1</td>\n",
       "      <td>0</td>\n",
       "      <td>0</td>\n",
       "      <td>3</td>\n",
       "      <td>...</td>\n",
       "      <td>1200</td>\n",
       "      <td>240</td>\n",
       "      <td>1914</td>\n",
       "      <td>0</td>\n",
       "      <td>98107</td>\n",
       "      <td>47.6707</td>\n",
       "      <td>-122.364</td>\n",
       "      <td>1440.0</td>\n",
       "      <td>4300.0</td>\n",
       "      <td>4.0</td>\n",
       "    </tr>\n",
       "    <tr>\n",
       "      <th>18754</th>\n",
       "      <td>6819100040</td>\n",
       "      <td>20140624T000000</td>\n",
       "      <td>2.0</td>\n",
       "      <td>1.00</td>\n",
       "      <td>1130.0</td>\n",
       "      <td>2640</td>\n",
       "      <td>1</td>\n",
       "      <td>0</td>\n",
       "      <td>0</td>\n",
       "      <td>4</td>\n",
       "      <td>...</td>\n",
       "      <td>1130</td>\n",
       "      <td>0</td>\n",
       "      <td>1927</td>\n",
       "      <td>0</td>\n",
       "      <td>98109</td>\n",
       "      <td>47.6438</td>\n",
       "      <td>-122.357</td>\n",
       "      <td>1680.0</td>\n",
       "      <td>3200.0</td>\n",
       "      <td>4.0</td>\n",
       "    </tr>\n",
       "    <tr>\n",
       "      <th>14554</th>\n",
       "      <td>4027700666</td>\n",
       "      <td>20150426T000000</td>\n",
       "      <td>4.0</td>\n",
       "      <td>2.50</td>\n",
       "      <td>3180.0</td>\n",
       "      <td>9603</td>\n",
       "      <td>2</td>\n",
       "      <td>0</td>\n",
       "      <td>2</td>\n",
       "      <td>3</td>\n",
       "      <td>...</td>\n",
       "      <td>3180</td>\n",
       "      <td>0</td>\n",
       "      <td>2002</td>\n",
       "      <td>0</td>\n",
       "      <td>98155</td>\n",
       "      <td>47.7717</td>\n",
       "      <td>-122.277</td>\n",
       "      <td>2440.0</td>\n",
       "      <td>15261.0</td>\n",
       "      <td>16.0</td>\n",
       "    </tr>\n",
       "    <tr>\n",
       "      <th>...</th>\n",
       "      <td>...</td>\n",
       "      <td>...</td>\n",
       "      <td>...</td>\n",
       "      <td>...</td>\n",
       "      <td>...</td>\n",
       "      <td>...</td>\n",
       "      <td>...</td>\n",
       "      <td>...</td>\n",
       "      <td>...</td>\n",
       "      <td>...</td>\n",
       "      <td>...</td>\n",
       "      <td>...</td>\n",
       "      <td>...</td>\n",
       "      <td>...</td>\n",
       "      <td>...</td>\n",
       "      <td>...</td>\n",
       "      <td>...</td>\n",
       "      <td>...</td>\n",
       "      <td>...</td>\n",
       "      <td>...</td>\n",
       "      <td>...</td>\n",
       "    </tr>\n",
       "    <tr>\n",
       "      <th>5427</th>\n",
       "      <td>3528000545</td>\n",
       "      <td>20140815T000000</td>\n",
       "      <td>4.0</td>\n",
       "      <td>3.25</td>\n",
       "      <td>3090.0</td>\n",
       "      <td>67518</td>\n",
       "      <td>2</td>\n",
       "      <td>0</td>\n",
       "      <td>0</td>\n",
       "      <td>3</td>\n",
       "      <td>...</td>\n",
       "      <td>3090</td>\n",
       "      <td>0</td>\n",
       "      <td>1988</td>\n",
       "      <td>0</td>\n",
       "      <td>98053</td>\n",
       "      <td>47.6674</td>\n",
       "      <td>-122.046</td>\n",
       "      <td>3200.0</td>\n",
       "      <td>65775.0</td>\n",
       "      <td>16.0</td>\n",
       "    </tr>\n",
       "    <tr>\n",
       "      <th>16547</th>\n",
       "      <td>0526059259</td>\n",
       "      <td>20140819T000000</td>\n",
       "      <td>3.0</td>\n",
       "      <td>1.75</td>\n",
       "      <td>1260.0</td>\n",
       "      <td>8487</td>\n",
       "      <td>1</td>\n",
       "      <td>0</td>\n",
       "      <td>0</td>\n",
       "      <td>3</td>\n",
       "      <td>...</td>\n",
       "      <td>1260</td>\n",
       "      <td>0</td>\n",
       "      <td>1970</td>\n",
       "      <td>0</td>\n",
       "      <td>98011</td>\n",
       "      <td>47.7664</td>\n",
       "      <td>-122.201</td>\n",
       "      <td>1890.0</td>\n",
       "      <td>13051.0</td>\n",
       "      <td>9.0</td>\n",
       "    </tr>\n",
       "    <tr>\n",
       "      <th>4585</th>\n",
       "      <td>0339600090</td>\n",
       "      <td>20140925T000000</td>\n",
       "      <td>3.0</td>\n",
       "      <td>2.50</td>\n",
       "      <td>1360.0</td>\n",
       "      <td>3718</td>\n",
       "      <td>2</td>\n",
       "      <td>0</td>\n",
       "      <td>0</td>\n",
       "      <td>3</td>\n",
       "      <td>...</td>\n",
       "      <td>1360</td>\n",
       "      <td>0</td>\n",
       "      <td>1987</td>\n",
       "      <td>0</td>\n",
       "      <td>98052</td>\n",
       "      <td>47.6827</td>\n",
       "      <td>-122.097</td>\n",
       "      <td>1090.0</td>\n",
       "      <td>3718.0</td>\n",
       "      <td>9.0</td>\n",
       "    </tr>\n",
       "    <tr>\n",
       "      <th>17762</th>\n",
       "      <td>7750500120</td>\n",
       "      <td>20141118T000000</td>\n",
       "      <td>3.0</td>\n",
       "      <td>1.00</td>\n",
       "      <td>950.0</td>\n",
       "      <td>4760</td>\n",
       "      <td>1.5</td>\n",
       "      <td>0</td>\n",
       "      <td>0</td>\n",
       "      <td>3</td>\n",
       "      <td>...</td>\n",
       "      <td>950</td>\n",
       "      <td>0</td>\n",
       "      <td>1929</td>\n",
       "      <td>0</td>\n",
       "      <td>98106</td>\n",
       "      <td>47.5236</td>\n",
       "      <td>-122.348</td>\n",
       "      <td>1080.0</td>\n",
       "      <td>4760.0</td>\n",
       "      <td>9.0</td>\n",
       "    </tr>\n",
       "    <tr>\n",
       "      <th>16323</th>\n",
       "      <td>0267000170</td>\n",
       "      <td>20141210T000000</td>\n",
       "      <td>3.0</td>\n",
       "      <td>2.25</td>\n",
       "      <td>1640.0</td>\n",
       "      <td>12000</td>\n",
       "      <td>1</td>\n",
       "      <td>0</td>\n",
       "      <td>0</td>\n",
       "      <td>3</td>\n",
       "      <td>...</td>\n",
       "      <td>1180</td>\n",
       "      <td>460</td>\n",
       "      <td>1967</td>\n",
       "      <td>0</td>\n",
       "      <td>98008</td>\n",
       "      <td>47.6252</td>\n",
       "      <td>-122.104</td>\n",
       "      <td>1620.0</td>\n",
       "      <td>12000.0</td>\n",
       "      <td>9.0</td>\n",
       "    </tr>\n",
       "  </tbody>\n",
       "</table>\n",
       "<p>4323 rows × 21 columns</p>\n",
       "</div>"
      ],
      "text/plain": [
       "               id             date  bedrooms  bathrooms  sqft_living  \\\n",
       "17384  1453602313  20141029T000000       2.0       1.50       1430.0   \n",
       "722    2225059214  20140808T000000       4.0       3.25       4670.0   \n",
       "2680   2768000270  20140625T000000       2.0       0.75       1440.0   \n",
       "18754  6819100040  20140624T000000       2.0       1.00       1130.0   \n",
       "14554  4027700666  20150426T000000       4.0       2.50       3180.0   \n",
       "...           ...              ...       ...        ...          ...   \n",
       "5427   3528000545  20140815T000000       4.0       3.25       3090.0   \n",
       "16547  0526059259  20140819T000000       3.0       1.75       1260.0   \n",
       "4585   0339600090  20140925T000000       3.0       2.50       1360.0   \n",
       "17762  7750500120  20141118T000000       3.0       1.00        950.0   \n",
       "16323  0267000170  20141210T000000       3.0       2.25       1640.0   \n",
       "\n",
       "       sqft_lot floors  waterfront  view  condition  ...  sqft_above  \\\n",
       "17384      1650      3           0     0          3  ...        1430   \n",
       "722       51836      2           0     0          4  ...        4670   \n",
       "2680       3700      1           0     0          3  ...        1200   \n",
       "18754      2640      1           0     0          4  ...        1130   \n",
       "14554      9603      2           0     2          3  ...        3180   \n",
       "...         ...    ...         ...   ...        ...  ...         ...   \n",
       "5427      67518      2           0     0          3  ...        3090   \n",
       "16547      8487      1           0     0          3  ...        1260   \n",
       "4585       3718      2           0     0          3  ...        1360   \n",
       "17762      4760    1.5           0     0          3  ...         950   \n",
       "16323     12000      1           0     0          3  ...        1180   \n",
       "\n",
       "       sqft_basement  yr_built  yr_renovated  zipcode      lat     long  \\\n",
       "17384              0      1999             0    98125  47.7222 -122.290   \n",
       "722                0      1988             0    98005  47.6350 -122.164   \n",
       "2680             240      1914             0    98107  47.6707 -122.364   \n",
       "18754              0      1927             0    98109  47.6438 -122.357   \n",
       "14554              0      2002             0    98155  47.7717 -122.277   \n",
       "...              ...       ...           ...      ...      ...      ...   \n",
       "5427               0      1988             0    98053  47.6674 -122.046   \n",
       "16547              0      1970             0    98011  47.7664 -122.201   \n",
       "4585               0      1987             0    98052  47.6827 -122.097   \n",
       "17762              0      1929             0    98106  47.5236 -122.348   \n",
       "16323            460      1967             0    98008  47.6252 -122.104   \n",
       "\n",
       "       sqft_living15  sqft_lot15  bedrooms_squared  \n",
       "17384         1430.0      1650.0               4.0  \n",
       "722           4230.0     41075.0              16.0  \n",
       "2680          1440.0      4300.0               4.0  \n",
       "18754         1680.0      3200.0               4.0  \n",
       "14554         2440.0     15261.0              16.0  \n",
       "...              ...         ...               ...  \n",
       "5427          3200.0     65775.0              16.0  \n",
       "16547         1890.0     13051.0               9.0  \n",
       "4585          1090.0      3718.0               9.0  \n",
       "17762         1080.0      4760.0               9.0  \n",
       "16323         1620.0     12000.0               9.0  \n",
       "\n",
       "[4323 rows x 21 columns]"
      ]
     },
     "execution_count": 264,
     "metadata": {},
     "output_type": "execute_result"
    }
   ],
   "source": [
    "X_train['bedrooms_squared'] = X_train['bedrooms'].apply(lambda x: x**2)\n",
    "X_test['bedrooms_squared'] = X_test['bedrooms'].apply(lambda x: x**2)\n",
    "\n",
    "X_test"
   ]
  },
  {
   "cell_type": "code",
   "execution_count": 265,
   "metadata": {},
   "outputs": [
    {
     "name": "stderr",
     "output_type": "stream",
     "text": [
      "<ipython-input-265-a295e031e5c4>:4: SettingWithCopyWarning: \n",
      "A value is trying to be set on a copy of a slice from a DataFrame.\n",
      "Try using .loc[row_indexer,col_indexer] = value instead\n",
      "\n",
      "See the caveats in the documentation: https://pandas.pydata.org/pandas-docs/stable/user_guide/indexing.html#returning-a-view-versus-a-copy\n",
      "  X_train['bed_bath_rooms'] = X_train['bedrooms'] * X_train['bathrooms']\n",
      "<ipython-input-265-a295e031e5c4>:5: SettingWithCopyWarning: \n",
      "A value is trying to be set on a copy of a slice from a DataFrame.\n",
      "Try using .loc[row_indexer,col_indexer] = value instead\n",
      "\n",
      "See the caveats in the documentation: https://pandas.pydata.org/pandas-docs/stable/user_guide/indexing.html#returning-a-view-versus-a-copy\n",
      "  X_test['bed_bath_rooms'] = X_test['bedrooms'] * X_test['bathrooms']\n",
      "<ipython-input-265-a295e031e5c4>:8: SettingWithCopyWarning: \n",
      "A value is trying to be set on a copy of a slice from a DataFrame.\n",
      "Try using .loc[row_indexer,col_indexer] = value instead\n",
      "\n",
      "See the caveats in the documentation: https://pandas.pydata.org/pandas-docs/stable/user_guide/indexing.html#returning-a-view-versus-a-copy\n",
      "  X_train['log_sqft_living'] = X_train['sqft_living'].apply(lambda x: log(x))\n",
      "<ipython-input-265-a295e031e5c4>:9: SettingWithCopyWarning: \n",
      "A value is trying to be set on a copy of a slice from a DataFrame.\n",
      "Try using .loc[row_indexer,col_indexer] = value instead\n",
      "\n",
      "See the caveats in the documentation: https://pandas.pydata.org/pandas-docs/stable/user_guide/indexing.html#returning-a-view-versus-a-copy\n",
      "  X_test['log_sqft_living'] = X_test['sqft_living'].apply(lambda x: log(x))\n",
      "<ipython-input-265-a295e031e5c4>:12: SettingWithCopyWarning: \n",
      "A value is trying to be set on a copy of a slice from a DataFrame.\n",
      "Try using .loc[row_indexer,col_indexer] = value instead\n",
      "\n",
      "See the caveats in the documentation: https://pandas.pydata.org/pandas-docs/stable/user_guide/indexing.html#returning-a-view-versus-a-copy\n",
      "  X_train['lat_plus_long'] = X_train['lat'] + X_train['long']\n",
      "<ipython-input-265-a295e031e5c4>:13: SettingWithCopyWarning: \n",
      "A value is trying to be set on a copy of a slice from a DataFrame.\n",
      "Try using .loc[row_indexer,col_indexer] = value instead\n",
      "\n",
      "See the caveats in the documentation: https://pandas.pydata.org/pandas-docs/stable/user_guide/indexing.html#returning-a-view-versus-a-copy\n",
      "  X_test['lat_plus_long'] =  X_test['lat'] + X_test['long']\n"
     ]
    },
    {
     "data": {
      "text/html": [
       "<div>\n",
       "<style scoped>\n",
       "    .dataframe tbody tr th:only-of-type {\n",
       "        vertical-align: middle;\n",
       "    }\n",
       "\n",
       "    .dataframe tbody tr th {\n",
       "        vertical-align: top;\n",
       "    }\n",
       "\n",
       "    .dataframe thead th {\n",
       "        text-align: right;\n",
       "    }\n",
       "</style>\n",
       "<table border=\"1\" class=\"dataframe\">\n",
       "  <thead>\n",
       "    <tr style=\"text-align: right;\">\n",
       "      <th></th>\n",
       "      <th>id</th>\n",
       "      <th>date</th>\n",
       "      <th>bedrooms</th>\n",
       "      <th>bathrooms</th>\n",
       "      <th>sqft_living</th>\n",
       "      <th>sqft_lot</th>\n",
       "      <th>floors</th>\n",
       "      <th>waterfront</th>\n",
       "      <th>view</th>\n",
       "      <th>condition</th>\n",
       "      <th>...</th>\n",
       "      <th>yr_renovated</th>\n",
       "      <th>zipcode</th>\n",
       "      <th>lat</th>\n",
       "      <th>long</th>\n",
       "      <th>sqft_living15</th>\n",
       "      <th>sqft_lot15</th>\n",
       "      <th>bedrooms_squared</th>\n",
       "      <th>bed_bath_rooms</th>\n",
       "      <th>log_sqft_living</th>\n",
       "      <th>lat_plus_long</th>\n",
       "    </tr>\n",
       "  </thead>\n",
       "  <tbody>\n",
       "    <tr>\n",
       "      <th>17384</th>\n",
       "      <td>1453602313</td>\n",
       "      <td>20141029T000000</td>\n",
       "      <td>2.0</td>\n",
       "      <td>1.50</td>\n",
       "      <td>1430.0</td>\n",
       "      <td>1650</td>\n",
       "      <td>3</td>\n",
       "      <td>0</td>\n",
       "      <td>0</td>\n",
       "      <td>3</td>\n",
       "      <td>...</td>\n",
       "      <td>0</td>\n",
       "      <td>98125</td>\n",
       "      <td>47.7222</td>\n",
       "      <td>-122.290</td>\n",
       "      <td>1430.0</td>\n",
       "      <td>1650.0</td>\n",
       "      <td>4.0</td>\n",
       "      <td>3.00</td>\n",
       "      <td>7.265430</td>\n",
       "      <td>-74.5678</td>\n",
       "    </tr>\n",
       "    <tr>\n",
       "      <th>722</th>\n",
       "      <td>2225059214</td>\n",
       "      <td>20140808T000000</td>\n",
       "      <td>4.0</td>\n",
       "      <td>3.25</td>\n",
       "      <td>4670.0</td>\n",
       "      <td>51836</td>\n",
       "      <td>2</td>\n",
       "      <td>0</td>\n",
       "      <td>0</td>\n",
       "      <td>4</td>\n",
       "      <td>...</td>\n",
       "      <td>0</td>\n",
       "      <td>98005</td>\n",
       "      <td>47.6350</td>\n",
       "      <td>-122.164</td>\n",
       "      <td>4230.0</td>\n",
       "      <td>41075.0</td>\n",
       "      <td>16.0</td>\n",
       "      <td>13.00</td>\n",
       "      <td>8.448914</td>\n",
       "      <td>-74.5290</td>\n",
       "    </tr>\n",
       "    <tr>\n",
       "      <th>2680</th>\n",
       "      <td>2768000270</td>\n",
       "      <td>20140625T000000</td>\n",
       "      <td>2.0</td>\n",
       "      <td>0.75</td>\n",
       "      <td>1440.0</td>\n",
       "      <td>3700</td>\n",
       "      <td>1</td>\n",
       "      <td>0</td>\n",
       "      <td>0</td>\n",
       "      <td>3</td>\n",
       "      <td>...</td>\n",
       "      <td>0</td>\n",
       "      <td>98107</td>\n",
       "      <td>47.6707</td>\n",
       "      <td>-122.364</td>\n",
       "      <td>1440.0</td>\n",
       "      <td>4300.0</td>\n",
       "      <td>4.0</td>\n",
       "      <td>1.50</td>\n",
       "      <td>7.272398</td>\n",
       "      <td>-74.6933</td>\n",
       "    </tr>\n",
       "    <tr>\n",
       "      <th>18754</th>\n",
       "      <td>6819100040</td>\n",
       "      <td>20140624T000000</td>\n",
       "      <td>2.0</td>\n",
       "      <td>1.00</td>\n",
       "      <td>1130.0</td>\n",
       "      <td>2640</td>\n",
       "      <td>1</td>\n",
       "      <td>0</td>\n",
       "      <td>0</td>\n",
       "      <td>4</td>\n",
       "      <td>...</td>\n",
       "      <td>0</td>\n",
       "      <td>98109</td>\n",
       "      <td>47.6438</td>\n",
       "      <td>-122.357</td>\n",
       "      <td>1680.0</td>\n",
       "      <td>3200.0</td>\n",
       "      <td>4.0</td>\n",
       "      <td>2.00</td>\n",
       "      <td>7.029973</td>\n",
       "      <td>-74.7132</td>\n",
       "    </tr>\n",
       "    <tr>\n",
       "      <th>14554</th>\n",
       "      <td>4027700666</td>\n",
       "      <td>20150426T000000</td>\n",
       "      <td>4.0</td>\n",
       "      <td>2.50</td>\n",
       "      <td>3180.0</td>\n",
       "      <td>9603</td>\n",
       "      <td>2</td>\n",
       "      <td>0</td>\n",
       "      <td>2</td>\n",
       "      <td>3</td>\n",
       "      <td>...</td>\n",
       "      <td>0</td>\n",
       "      <td>98155</td>\n",
       "      <td>47.7717</td>\n",
       "      <td>-122.277</td>\n",
       "      <td>2440.0</td>\n",
       "      <td>15261.0</td>\n",
       "      <td>16.0</td>\n",
       "      <td>10.00</td>\n",
       "      <td>8.064636</td>\n",
       "      <td>-74.5053</td>\n",
       "    </tr>\n",
       "    <tr>\n",
       "      <th>...</th>\n",
       "      <td>...</td>\n",
       "      <td>...</td>\n",
       "      <td>...</td>\n",
       "      <td>...</td>\n",
       "      <td>...</td>\n",
       "      <td>...</td>\n",
       "      <td>...</td>\n",
       "      <td>...</td>\n",
       "      <td>...</td>\n",
       "      <td>...</td>\n",
       "      <td>...</td>\n",
       "      <td>...</td>\n",
       "      <td>...</td>\n",
       "      <td>...</td>\n",
       "      <td>...</td>\n",
       "      <td>...</td>\n",
       "      <td>...</td>\n",
       "      <td>...</td>\n",
       "      <td>...</td>\n",
       "      <td>...</td>\n",
       "      <td>...</td>\n",
       "    </tr>\n",
       "    <tr>\n",
       "      <th>5427</th>\n",
       "      <td>3528000545</td>\n",
       "      <td>20140815T000000</td>\n",
       "      <td>4.0</td>\n",
       "      <td>3.25</td>\n",
       "      <td>3090.0</td>\n",
       "      <td>67518</td>\n",
       "      <td>2</td>\n",
       "      <td>0</td>\n",
       "      <td>0</td>\n",
       "      <td>3</td>\n",
       "      <td>...</td>\n",
       "      <td>0</td>\n",
       "      <td>98053</td>\n",
       "      <td>47.6674</td>\n",
       "      <td>-122.046</td>\n",
       "      <td>3200.0</td>\n",
       "      <td>65775.0</td>\n",
       "      <td>16.0</td>\n",
       "      <td>13.00</td>\n",
       "      <td>8.035926</td>\n",
       "      <td>-74.3786</td>\n",
       "    </tr>\n",
       "    <tr>\n",
       "      <th>16547</th>\n",
       "      <td>0526059259</td>\n",
       "      <td>20140819T000000</td>\n",
       "      <td>3.0</td>\n",
       "      <td>1.75</td>\n",
       "      <td>1260.0</td>\n",
       "      <td>8487</td>\n",
       "      <td>1</td>\n",
       "      <td>0</td>\n",
       "      <td>0</td>\n",
       "      <td>3</td>\n",
       "      <td>...</td>\n",
       "      <td>0</td>\n",
       "      <td>98011</td>\n",
       "      <td>47.7664</td>\n",
       "      <td>-122.201</td>\n",
       "      <td>1890.0</td>\n",
       "      <td>13051.0</td>\n",
       "      <td>9.0</td>\n",
       "      <td>5.25</td>\n",
       "      <td>7.138867</td>\n",
       "      <td>-74.4346</td>\n",
       "    </tr>\n",
       "    <tr>\n",
       "      <th>4585</th>\n",
       "      <td>0339600090</td>\n",
       "      <td>20140925T000000</td>\n",
       "      <td>3.0</td>\n",
       "      <td>2.50</td>\n",
       "      <td>1360.0</td>\n",
       "      <td>3718</td>\n",
       "      <td>2</td>\n",
       "      <td>0</td>\n",
       "      <td>0</td>\n",
       "      <td>3</td>\n",
       "      <td>...</td>\n",
       "      <td>0</td>\n",
       "      <td>98052</td>\n",
       "      <td>47.6827</td>\n",
       "      <td>-122.097</td>\n",
       "      <td>1090.0</td>\n",
       "      <td>3718.0</td>\n",
       "      <td>9.0</td>\n",
       "      <td>7.50</td>\n",
       "      <td>7.215240</td>\n",
       "      <td>-74.4143</td>\n",
       "    </tr>\n",
       "    <tr>\n",
       "      <th>17762</th>\n",
       "      <td>7750500120</td>\n",
       "      <td>20141118T000000</td>\n",
       "      <td>3.0</td>\n",
       "      <td>1.00</td>\n",
       "      <td>950.0</td>\n",
       "      <td>4760</td>\n",
       "      <td>1.5</td>\n",
       "      <td>0</td>\n",
       "      <td>0</td>\n",
       "      <td>3</td>\n",
       "      <td>...</td>\n",
       "      <td>0</td>\n",
       "      <td>98106</td>\n",
       "      <td>47.5236</td>\n",
       "      <td>-122.348</td>\n",
       "      <td>1080.0</td>\n",
       "      <td>4760.0</td>\n",
       "      <td>9.0</td>\n",
       "      <td>3.00</td>\n",
       "      <td>6.856462</td>\n",
       "      <td>-74.8244</td>\n",
       "    </tr>\n",
       "    <tr>\n",
       "      <th>16323</th>\n",
       "      <td>0267000170</td>\n",
       "      <td>20141210T000000</td>\n",
       "      <td>3.0</td>\n",
       "      <td>2.25</td>\n",
       "      <td>1640.0</td>\n",
       "      <td>12000</td>\n",
       "      <td>1</td>\n",
       "      <td>0</td>\n",
       "      <td>0</td>\n",
       "      <td>3</td>\n",
       "      <td>...</td>\n",
       "      <td>0</td>\n",
       "      <td>98008</td>\n",
       "      <td>47.6252</td>\n",
       "      <td>-122.104</td>\n",
       "      <td>1620.0</td>\n",
       "      <td>12000.0</td>\n",
       "      <td>9.0</td>\n",
       "      <td>6.75</td>\n",
       "      <td>7.402452</td>\n",
       "      <td>-74.4788</td>\n",
       "    </tr>\n",
       "  </tbody>\n",
       "</table>\n",
       "<p>4323 rows × 24 columns</p>\n",
       "</div>"
      ],
      "text/plain": [
       "               id             date  bedrooms  bathrooms  sqft_living  \\\n",
       "17384  1453602313  20141029T000000       2.0       1.50       1430.0   \n",
       "722    2225059214  20140808T000000       4.0       3.25       4670.0   \n",
       "2680   2768000270  20140625T000000       2.0       0.75       1440.0   \n",
       "18754  6819100040  20140624T000000       2.0       1.00       1130.0   \n",
       "14554  4027700666  20150426T000000       4.0       2.50       3180.0   \n",
       "...           ...              ...       ...        ...          ...   \n",
       "5427   3528000545  20140815T000000       4.0       3.25       3090.0   \n",
       "16547  0526059259  20140819T000000       3.0       1.75       1260.0   \n",
       "4585   0339600090  20140925T000000       3.0       2.50       1360.0   \n",
       "17762  7750500120  20141118T000000       3.0       1.00        950.0   \n",
       "16323  0267000170  20141210T000000       3.0       2.25       1640.0   \n",
       "\n",
       "       sqft_lot floors  waterfront  view  condition  ...  yr_renovated  \\\n",
       "17384      1650      3           0     0          3  ...             0   \n",
       "722       51836      2           0     0          4  ...             0   \n",
       "2680       3700      1           0     0          3  ...             0   \n",
       "18754      2640      1           0     0          4  ...             0   \n",
       "14554      9603      2           0     2          3  ...             0   \n",
       "...         ...    ...         ...   ...        ...  ...           ...   \n",
       "5427      67518      2           0     0          3  ...             0   \n",
       "16547      8487      1           0     0          3  ...             0   \n",
       "4585       3718      2           0     0          3  ...             0   \n",
       "17762      4760    1.5           0     0          3  ...             0   \n",
       "16323     12000      1           0     0          3  ...             0   \n",
       "\n",
       "       zipcode      lat     long  sqft_living15 sqft_lot15  bedrooms_squared  \\\n",
       "17384    98125  47.7222 -122.290         1430.0     1650.0               4.0   \n",
       "722      98005  47.6350 -122.164         4230.0    41075.0              16.0   \n",
       "2680     98107  47.6707 -122.364         1440.0     4300.0               4.0   \n",
       "18754    98109  47.6438 -122.357         1680.0     3200.0               4.0   \n",
       "14554    98155  47.7717 -122.277         2440.0    15261.0              16.0   \n",
       "...        ...      ...      ...            ...        ...               ...   \n",
       "5427     98053  47.6674 -122.046         3200.0    65775.0              16.0   \n",
       "16547    98011  47.7664 -122.201         1890.0    13051.0               9.0   \n",
       "4585     98052  47.6827 -122.097         1090.0     3718.0               9.0   \n",
       "17762    98106  47.5236 -122.348         1080.0     4760.0               9.0   \n",
       "16323    98008  47.6252 -122.104         1620.0    12000.0               9.0   \n",
       "\n",
       "       bed_bath_rooms  log_sqft_living  lat_plus_long  \n",
       "17384            3.00         7.265430       -74.5678  \n",
       "722             13.00         8.448914       -74.5290  \n",
       "2680             1.50         7.272398       -74.6933  \n",
       "18754            2.00         7.029973       -74.7132  \n",
       "14554           10.00         8.064636       -74.5053  \n",
       "...               ...              ...            ...  \n",
       "5427            13.00         8.035926       -74.3786  \n",
       "16547            5.25         7.138867       -74.4346  \n",
       "4585             7.50         7.215240       -74.4143  \n",
       "17762            3.00         6.856462       -74.8244  \n",
       "16323            6.75         7.402452       -74.4788  \n",
       "\n",
       "[4323 rows x 24 columns]"
      ]
     },
     "execution_count": 265,
     "metadata": {},
     "output_type": "execute_result"
    }
   ],
   "source": [
    "# utwórz pozostałe 3 funkcje zarówno w danych TRENINGOWYCH, jak i TESTOWYCH\n",
    "\n",
    "#druga funkcja\n",
    "X_train['bed_bath_rooms'] = X_train['bedrooms'] * X_train['bathrooms']\n",
    "X_test['bed_bath_rooms'] = X_test['bedrooms'] * X_test['bathrooms']\n",
    "\n",
    "#trzecia funkcja\n",
    "X_train['log_sqft_living'] = X_train['sqft_living'].apply(lambda x: log(x))\n",
    "X_test['log_sqft_living'] = X_test['sqft_living'].apply(lambda x: log(x))\n",
    "\n",
    "#czwarta funkcja\n",
    "X_train['lat_plus_long'] = X_train['lat'] + X_train['long']\n",
    "X_test['lat_plus_long'] =  X_test['lat'] + X_test['long']\n",
    "\n",
    "X_test"
   ]
  },
  {
   "cell_type": "markdown",
   "metadata": {},
   "source": [
    "* Kwadrat sypialni zwiększa separację między nielicznymi sypialniami (np. 1) i wieloma sypialniami (np. 4), ponieważ 1 ^ 2 = 1, ale 4 ^ 2 = 16. W konsekwencji ta funkcja będzie miała wpływ głównie na domy z wieloma sypialniami.\n",
    "* Sypialnia razy łazienka daje tak zwaną funkcję „interakcji”. Wynik jest wysoki, gdy  wartościu *obu* cech są duże.\n",
    "* Przejęcie logarytmu stóp kwadratowych powoduje zbliżenie dużych wartości i rozłożenie małych wartości. Wynika to z reguły prawoskośności posiadanych danych/posiadanego atrybutu.\n",
    "* Dodawanie szerokości do długości geograficznej jest całkowicie bezsensowne, ale i tak to zrobimy (zobaczymy później dlaczego)"
   ]
  },
  {
   "cell_type": "markdown",
   "metadata": {},
   "source": [
    "**Pytanie quizu: Jaka jest średnia (średnia arytmetyczna) twoich 4 nowych funkcji w danych TEST? (w zaokrągleniu do 2 cyfr)**"
   ]
  },
  {
   "cell_type": "code",
   "execution_count": 266,
   "metadata": {},
   "outputs": [
    {
     "name": "stdout",
     "output_type": "stream",
     "text": [
      "średnia arytmetyczna 1 funkcji\n",
      "12.21\n",
      "średnia arytmetyczna 2 funkcji\n",
      "7.45\n",
      "średnia arytmetyczna 3 funkcji\n",
      "7.55\n",
      "średnia arytmetyczna 4 funkcji\n",
      "-74.65\n",
      "średnia arytmetyczna wszystkich czterech funkcji\n",
      "-11.86\n"
     ]
    }
   ],
   "source": [
    "arytmetyczna_1 = np.sum(X_test['bedrooms_squared'])/ len(X_test['bedrooms_squared'])\n",
    "print(\"średnia arytmetyczna 1 funkcji\")\n",
    "print(round(arytmetyczna_1,2))\n",
    "\n",
    "arytmetyczna_2 = np.sum(X_test['bed_bath_rooms'])/ len(X_test['bed_bath_rooms'])\n",
    "print(\"średnia arytmetyczna 2 funkcji\")\n",
    "print(round(arytmetyczna_2,2))\n",
    "\n",
    "arytmetyczna_3 = np.sum(X_test['log_sqft_living'])/ len(X_test['log_sqft_living'])\n",
    "print(\"średnia arytmetyczna 3 funkcji\")\n",
    "print(round(arytmetyczna_3,2))\n",
    "\n",
    "arytmetyczna_4 = np.sum(X_test['lat_plus_long'])/ len(X_test['lat_plus_long'])\n",
    "print(\"średnia arytmetyczna 4 funkcji\")\n",
    "print(round(arytmetyczna_4,2))\n",
    "\n",
    "# sprawdź jeszze\n",
    "print(\"średnia arytmetyczna wszystkich czterech funkcji\")\n",
    "arytmetyczna_all = (arytmetyczna_1 + arytmetyczna_2 + arytmetyczna_3 + arytmetyczna_4) / 4\n",
    "print(round(arytmetyczna_all,2))"
   ]
  },
  {
   "cell_type": "markdown",
   "metadata": {},
   "source": [
    "# Uczenie wielu modeli"
   ]
  },
  {
   "cell_type": "markdown",
   "metadata": {},
   "source": [
    "Teraz poznamy wagi trzech (zagnieżdżonych) modeli do przewidywania cen domów. Pierwszy model będzie miał najmniej cech, drugi model doda jedną cechę, a trzeci doda jeszcze kilka:\n",
    "* Model 1: squarefeet, # bedrooms, # bathrooms, latitude & longitude\n",
    "* Model 2: + bedrooms\\*bathrooms\n",
    "* Model 3: + log squarefeet, bedrooms squared, i (bezsensowne) latitude + longitude"
   ]
  },
  {
   "cell_type": "code",
   "execution_count": 267,
   "metadata": {},
   "outputs": [],
   "source": [
    "model_1_features = ['sqft_living', 'bedrooms', 'bathrooms', 'lat', 'long']\n",
    "model_2_features = model_1_features + ['bed_bath_rooms']\n",
    "model_3_features = model_2_features + ['bedrooms_squared', 'log_sqft_living', 'lat_plus_long']"
   ]
  },
  {
   "cell_type": "markdown",
   "metadata": {},
   "source": [
    "Teraz, gdy mamy już cechy, poznaj wagi trzech różnych modeli do przewidywania docelowej = „ceny” za pomocą funkcji model_train i spójrz na wartość wag/współczynników:"
   ]
  },
  {
   "cell_type": "code",
   "execution_count": 268,
   "metadata": {},
   "outputs": [],
   "source": [
    "# Funkcja szukająca współczynników modelu\n",
    "\n",
    "def model_train(X_train, y_train):\n",
    "    \n",
    "    # Wylicz współczynniki modelu wykorzystując pseudoodwrotność\n",
    "\n",
    "    my_X = X_train\n",
    "    my_X.insert(loc= 0,column= 'X_0', value = np.ones((len(my_X))))\n",
    "\n",
    "    model = np.dot(np.linalg.pinv(my_X),y_train)\n",
    "    \n",
    "    return(model)"
   ]
  },
  {
   "cell_type": "code",
   "execution_count": 269,
   "metadata": {},
   "outputs": [],
   "source": [
    "# Wyucz 3 modele:\n",
    "model_1 =model_train(X_train[model_1_features], y_train)\n",
    "model_2 =model_train(X_train[model_2_features], y_train)\n",
    "model_3 =model_train(X_train[model_3_features], y_train)\n",
    "\n"
   ]
  },
  {
   "cell_type": "code",
   "execution_count": 270,
   "metadata": {},
   "outputs": [
    {
     "name": "stdout",
     "output_type": "stream",
     "text": [
      "[-7.08708462e+07  3.12942010e+02 -5.30962691e+04  1.47770428e+04\n",
      "  6.53983343e+05 -3.25707336e+05]\n",
      "[-6.86068204e+07  3.06819573e+02 -1.04604718e+05 -7.01815289e+04\n",
      "  6.50590952e+05 -3.09965751e+05  2.49441497e+04]\n",
      "[-6.26284503e+07  5.37808086e+02  2.78047910e+03  1.01363766e+05\n",
      "  5.30798406e+05 -4.09655436e+05 -1.81822552e+04  7.24579939e+02\n",
      " -5.71030023e+05  1.21142971e+05]\n"
     ]
    }
   ],
   "source": [
    "# Wyświetl wagi współczynników modelu:\n",
    "\n",
    "print(model_1)\n",
    "print(model_2)\n",
    "print(model_3)"
   ]
  },
  {
   "cell_type": "markdown",
   "metadata": {},
   "source": [
    "**Quiz: Jaki jest znak (dodatni lub ujemny) dla współczynnika/wagi dla „łazienek” w modelu 1?**\n",
    "\n",
    "**Quiz: Jaki jest znak (dodatni lub ujemny) dla współczynnika/wagi dla „łazienek” w modelu 2?**\n",
    "\n",
    "Zastanów się, co to znaczy."
   ]
  },
  {
   "cell_type": "code",
   "execution_count": 271,
   "metadata": {},
   "outputs": [],
   "source": [
    "#dodatni dla pierwszego modelu\n",
    "#ujemny dla drugiego modelu\n",
    "\n",
    "# znak zmienia się z dodatniego na ujemny, gdy dodajemy cechę 'bed_bath_rooms', która przyjmuje dodatni znak;\n",
    "# oznacza to że waga samych 'łazieniek' spada (mniej istotna jest teraz)\n",
    "# gdy bierzemy pod uwage jeszcze 'lazienki_symialnie' która ma dużą wagę i jest istotniejszą cechą"
   ]
  },
  {
   "cell_type": "markdown",
   "metadata": {},
   "source": [
    "# Porównywanie wielu modeli\n",
    "\n",
    "Teraz, gdy otrzymaliśmy trzy modele i wyodrębniliśmy wagi modeli, chcemy ocenić, który model jest najlepszy."
   ]
  },
  {
   "cell_type": "markdown",
   "metadata": {},
   "source": [
    "Używając wcześniej naopisanych funkcji obliczy SSE dla danych uczących dla każdego z trzech modeli."
   ]
  },
  {
   "cell_type": "markdown",
   "metadata": {},
   "source": [
    "**Quiz: Który model (1, 2 lub 3) ma najniższy poziom SSE na danych TRENINGOWYCH?** Czy tego się spodziewałeś/-łaś?"
   ]
  },
  {
   "cell_type": "code",
   "execution_count": 272,
   "metadata": {},
   "outputs": [
    {
     "name": "stdout",
     "output_type": "stream",
     "text": [
      "błąd dla modelu 1 dane treningowe\n",
      "979843597588332.1\n",
      "błąd dla modelu 2 dane treningowe\n",
      "970799199729580.6\n",
      "błąd dla modelu 3 dane treningowe\n",
      "913653644974959.1\n"
     ]
    }
   ],
   "source": [
    "# Policz SSE na danych TRENINGOWYCH dla każdeg z 3 modeli i zapisz wartości:\n",
    "train_1_SSE = policz_SSE(model_1,X_train[model_1_features], y_train )\n",
    "print(\"błąd dla modelu 1 dane treningowe\")\n",
    "print(train_1_SSE)\n",
    "\n",
    "train_2_SSE = policz_SSE(model_2,X_train[model_2_features], y_train )\n",
    "print(\"błąd dla modelu 2 dane treningowe\")\n",
    "print(train_2_SSE)\n",
    "\n",
    "train_3_SSE = policz_SSE(model_3,X_train[model_3_features], y_train )\n",
    "print(\"błąd dla modelu 3 dane treningowe\")\n",
    "print(train_3_SSE)"
   ]
  },
  {
   "cell_type": "code",
   "execution_count": 273,
   "metadata": {},
   "outputs": [],
   "source": [
    "# najmniejszy błąd SSE jest dla modelu 3 (widzimy że dla modelu 1 jest największy, potem spada dla 2 modelu i dla 3 najmniejszy)\n",
    "\n",
    "# jest to wynik, którego się spodziewałam, ponieważ do modelu trzeciego dodałam więcej cech, \n",
    "# dzięki czemu model mógł lepiej zostać wyuczony, dodatkowo dodaliśmy te przekształcone cechy,\n",
    "# czyli te, które dzięki przekształceniom są bardziej wyraźne, pozwaljają przygotować bardziej dobrany model, mówią nam więcej o mieszkaniu (w większości przypadków, nie dotyczy to np lat_plus_long)\n"
   ]
  },
  {
   "cell_type": "markdown",
   "metadata": {},
   "source": [
    "Teraz obliczyć SSE na danych TEST dla każdego z trzech modeli."
   ]
  },
  {
   "cell_type": "code",
   "execution_count": 274,
   "metadata": {},
   "outputs": [
    {
     "name": "stdout",
     "output_type": "stream",
     "text": [
      "błąd dla modelu 1 dane testowe\n",
      "213487129319106.7\n",
      "błąd dla modelu 2 dane testowe\n",
      "210778544168944.12\n",
      "błąd dla modelu 3 dane testowe\n",
      "203972051917619.94\n"
     ]
    }
   ],
   "source": [
    "# Teraz obliczyć SSE na danych TEST dla każdego z trzech modeli i zapisz wartości:\n",
    "test_1_SSE = policz_SSE(model_1,X_test[model_1_features], y_test )\n",
    "print(\"błąd dla modelu 1 dane testowe\")\n",
    "print(test_1_SSE)\n",
    "\n",
    "test_2_SSE = policz_SSE(model_2,X_test[model_2_features], y_test )\n",
    "print(\"błąd dla modelu 2 dane testowe\")\n",
    "print(test_2_SSE)\n",
    "\n",
    "test_3_SSE = policz_SSE(model_3,X_test[model_3_features], y_test )\n",
    "print(\"błąd dla modelu 3 dane testowe\")\n",
    "print(test_3_SSE)"
   ]
  },
  {
   "cell_type": "markdown",
   "metadata": {},
   "source": [
    "**Quiz: Który model (1, 2 lub 3) ma najniższy poziom SSE na danych TESTOWYCH?** Czy tego się spodziewałeś/-łaś? Pomyśl o cechach, które zostały dodane do każdego z modeli."
   ]
  },
  {
   "cell_type": "code",
   "execution_count": 275,
   "metadata": {},
   "outputs": [],
   "source": [
    "# najmniejszy błąd SSE jest dla modelu 3 (widzimy że dla modelu 1 jest największy, potem spada dla 2 modelu i dla 3 najmniejszy)\n",
    "# mamy do czynienia z tą samą sytuacją jak powyżej, lepiej wyuczony model pozwala nam osiągnać dla danych testowych mniejszy błąd"
   ]
  },
  {
   "cell_type": "markdown",
   "metadata": {
    "collapsed": true
   },
   "source": [
    "# Policz pochodną"
   ]
  },
  {
   "cell_type": "markdown",
   "metadata": {},
   "source": [
    "Przejdziemy teraz do obliczania pochodnej funkcji kosztu regresji. Przypomnij sobie, że funkcja kosztu jest sumą kwadratów różnic między punktami danych a przewidywanym wynikiem.\n",
    "\n",
    "Ponieważ pochodna sumy jest sumą pochodnych, możemy obliczyć pochodną dla pojedynczego punktu danych, a następnie zsumować na podstawie punktów danych. Możemy zapisać kwadratową różnicę między obserwowanym a przewidywanym wynikiem dla pojedynczego punktu w następujący sposób:\n",
    "\n",
    "(w[0]\\*[CONSTANT] + w[1]\\*[cecha_1] + ... + w[i] \\*[cecha_i] + ... +  w[k]\\*[cecha_k] - output)^2\n",
    "\n",
    "Gdzie mamy *k* cech i stałą. Tak więc pochodną w odniesieniu do wagi w[i] według reguły łańcucha jest:\n",
    "\n",
    "2\\*(w[0]\\*[CONSTANT] + w[1]\\*[cecha_1] + ... + w[i] \\*[cecha_i] + ... +  w[k]\\*[cecha_k] - output)\\* [cecha_i]\n",
    "\n",
    "Pojęcie w nawiasach to tylko błąd (różnica między prognozowaniem a wyjściem). Możemy więc ponownie napisać to jako:\n",
    "\n",
    "2\\*error\\*[cecha_i]\n",
    "\n",
    "Oznacza to, że pochodną wagi cechy *i* jest suma (ponad punkty danych) 2-krotności iloczynu błędu i samej cechy. W przypadku stałej jest to tylko dwukrotność sumy błędów!\n",
    "\n",
    "Przypomnijmy, że dwukrotność sumy iloczynu dwóch wektorów jest tylko dwukrotnością iloczynu dwóch wektorów. Dlatego pochodna wagi dla *cechy_i* jest tylko dwukrotnością iloczynu między wartościami *cechy_i* a bieżącymi błędami.\n",
    "\n",
    "Mając to na uwadze, należy wykonać następującą funkcję pochodną, która oblicza pochodną współczynnika na podstawie wartości cechy (we wszystkich punktach danych) i błędów (we wszystkich punktach danych)."
   ]
  },
  {
   "cell_type": "code",
   "execution_count": 276,
   "metadata": {},
   "outputs": [],
   "source": [
    "def feature_derivative(errors, feature):\n",
    "    \n",
    "    # Oblicz podwojony iloczyn cech i błędów, a następnie zwróć otrzymną wartość\n",
    "    derivative = 2*np.dot(errors, feature)\n",
    "    \n",
    "    return(derivative)"
   ]
  },
  {
   "cell_type": "markdown",
   "metadata": {},
   "source": [
    "# Metoda spadku gradientu / gradientu prostego (Gradient Descent)"
   ]
  },
  {
   "cell_type": "markdown",
   "metadata": {},
   "source": [
    "Teraz napiszemy funkcję, która wykonuje spadek gradientu. Podstawową przesłanką jest prosta. Biorąc pod uwagę punkt początkowy, aktualizujemy bieżące wagi, przesuwając się w kierunku ujemnego gradientu. Przypomnijmy, że gradient jest kierunkiem *wzrostu*, a zatem gradient ujemny jest kierunkiem *spadku* i staramy się *zminimalizować* funkcję kosztu.\n",
    "\n",
    "Współczynnik, z jakim poruszamy się w kierunku gradientu ujemnego, nazywa się „rozmiarem kroku” - $\\alpha$. Zatrzymujemy się, gdy jesteśmy „wystarczająco blisko” do rozwiązania optymalnego. Definiujemy to, wymagając, aby wielkość (długość) wektora gradientu była mniejsza niż stała „tolerancja” - $\\epsilon$.\n",
    "\n",
    "Mając to na uwadze, wykonaj poniższą funkcję spadku gradientu poniżej, używając powyższej funkcji pochodnej. Dla każdego kroku zejścia gradientu aktualizujemy wagę każdej funkcji przed obliczeniem naszych kryteriów zatrzymania"
   ]
  },
  {
   "cell_type": "code",
   "execution_count": 277,
   "metadata": {},
   "outputs": [],
   "source": [
    "from math import sqrt # wywołanie funkcji na wektorze [g[0], g[1], g[2]] daje sqrt(g[0]^2 + g[1]^2 + g[2]^2)"
   ]
  },
  {
   "cell_type": "code",
   "execution_count": 278,
   "metadata": {},
   "outputs": [],
   "source": [
    "def regression_gradient_descent(feature_matrix, output, initial_weights, step_size, tolerance):\n",
    "    converged = False \n",
    "    weights = np.array(initial_weights) # miej pewność, że wagi są typu numpy array\n",
    "    while not converged:\n",
    "        # obliczyć prognozy na podstawie feature_matrix i wag za pomocą funkcji predict_output()\n",
    "        predictions = predict_output(feature_matrix, weights)\n",
    "\n",
    "        # wylicz błąd predykcji jako: predict_output - output\n",
    "        errors = predictions - output\n",
    "\n",
    "        gradient_sum_squares = 0 # inicjuj sumę pierwiastków gradientów\n",
    "        # chociaż nie osiągnęliśmy jeszcze tolerancji, zaktualizuj wagę każdej funkcji\n",
    "        for i in range(len(weights)): # zapętlenie każdej wagi\n",
    "            # Przypomnij sobie, że feature_matrix [:, i] to kolumna cech powiązana z wagami[i]\n",
    "            # obliczyć pochodną dla wagi[i]:\n",
    "            derivative = feature_derivative(errors, feature_matrix[:, i])\n",
    "            # dodaj kwadrat wartości pochodnej do sumy kwadratów gradientów (ocena zbieżności) \n",
    "            gradient_sum_squares += (derivative**2)\n",
    "            # odejmij wielkość kroku pomnożoną przez pochodną od bieżącej wagi\n",
    "            weights[i] -= (step_size * derivative)         \n",
    "            \n",
    "        # oblicz pierwiastek kwadratowy z sumy gradientów kwadratów, aby uzyskać wielkość gradientu:\n",
    "        gradient_magnitude = sqrt(gradient_sum_squares)\n",
    "        if gradient_magnitude < tolerance:\n",
    "            converged = True\n",
    "    return(weights)"
   ]
  },
  {
   "cell_type": "markdown",
   "metadata": {},
   "source": [
    "Kilka rzeczy, na które należy zwrócić uwagę, zanim zaczniemy korzystać z metody spadku gradientu. Ponieważ gradient jest sumą wszystkich punktów danych i obejmuje iloczyn błędu i wartości cechy, sam gradient będzie bardzo duży, ponieważ cechy są duże (stopy kwadratowe), a wynik jest duży (ceny). Tak więc, chociaż można oczekiwać, że „tolerancja” będzie niewielka, mała jest jedynie zależna od wielkości cechy.\n",
    "\n",
    "Z podobnych powodów rozmiar kroku będzie znacznie mniejszy niż można się spodziewać, ale dzieje się tak, ponieważ gradient ma tak duże wartości."
   ]
  },
  {
   "cell_type": "markdown",
   "metadata": {},
   "source": [
    "# Uruchamianie spadku gradientu jako prostej regresji"
   ]
  },
  {
   "cell_type": "markdown",
   "metadata": {},
   "source": [
    "Chociaż opadanie gradientu jest zaprojektowane dla regresji wielorakiej, ponieważ stała jest teraz funkcją, możemy użyć funkcji spadku gradientu do oszacowania parametrów prostej regresji na \"squarefeet\". Następująca komórka ustawia funkcję parametr_macierz, wynik, wagi początkowe i rozmiar kroku dla pierwszego modelu:"
   ]
  },
  {
   "cell_type": "code",
   "execution_count": 279,
   "metadata": {},
   "outputs": [],
   "source": [
    "# usunęłam z get_numpy_data output - ponieważ nie wyszukiwało nazwy 'price', a to dlatego że na samym początku\n",
    "# zadania usunęliśmy tę kolumnę z X, więc output w tej funkcji nie działał poprawnie\n",
    "\n",
    "def get_numpy_data(train_data, simple_features):\n",
    "    simple_feature_matrix = train_data[simple_features] \n",
    "    simple_feature_matrix['X_0'] = 1\n",
    "    simple_features.insert(0, 'X_0')\n",
    "    simple_feature_matrix = simple_feature_matrix[simple_features]\n",
    "    simple_feature_matrix = np.array(simple_feature_matrix)\n",
    "\n",
    "    return(simple_feature_matrix)"
   ]
  },
  {
   "cell_type": "code",
   "execution_count": 298,
   "metadata": {},
   "outputs": [
    {
     "name": "stderr",
     "output_type": "stream",
     "text": [
      "<ipython-input-279-37c5326bc417>:6: SettingWithCopyWarning: \n",
      "A value is trying to be set on a copy of a slice from a DataFrame.\n",
      "Try using .loc[row_indexer,col_indexer] = value instead\n",
      "\n",
      "See the caveats in the documentation: https://pandas.pydata.org/pandas-docs/stable/user_guide/indexing.html#returning-a-view-versus-a-copy\n",
      "  simple_feature_matrix['X_0'] = 1\n"
     ]
    },
    {
     "data": {
      "text/plain": [
       "array([[1.00e+00, 1.57e+03],\n",
       "       [1.00e+00, 1.78e+03],\n",
       "       [1.00e+00, 1.09e+03],\n",
       "       ...,\n",
       "       [1.00e+00, 2.36e+03],\n",
       "       [1.00e+00, 2.37e+03],\n",
       "       [1.00e+00, 2.38e+03]])"
      ]
     },
     "execution_count": 298,
     "metadata": {},
     "output_type": "execute_result"
    }
   ],
   "source": [
    "# test\n",
    "simple_features = ['sqft_living']\n",
    "\n",
    "my_output = y_train\n",
    "(simple_feature_matrix) = get_numpy_data(X_train, simple_features)\n",
    "initial_weights = np.array([-47000., 1.])\n",
    "step_size = 7e-12\n",
    "tolerance = 2.5e7\n",
    "\n",
    "simple_feature_matrix"
   ]
  },
  {
   "cell_type": "markdown",
   "metadata": {},
   "source": [
    "Następnie uruchom gradient z powyższymi parametrami."
   ]
  },
  {
   "cell_type": "code",
   "execution_count": 299,
   "metadata": {},
   "outputs": [
    {
     "name": "stdout",
     "output_type": "stream",
     "text": [
      "Otrzymane współczynniki dla metody spadku gradientu\n"
     ]
    },
    {
     "data": {
      "text/plain": [
       "array([-46999.88720259,    283.46383063])"
      ]
     },
     "execution_count": 299,
     "metadata": {},
     "output_type": "execute_result"
    }
   ],
   "source": [
    "test_weight = regression_gradient_descent(simple_feature_matrix, my_output, initial_weights, step_size, tolerance)\n",
    "print(\"Otrzymane współczynniki dla metody spadku gradientu\")\n",
    "test_weight"
   ]
  },
  {
   "cell_type": "markdown",
   "metadata": {},
   "source": [
    "Porównaj wagi do tych uzyskanych przy pomocy pseudoodwrotności?\n",
    "\n",
    "**Pytanie quizu: Jaka jest waga sqft_living - drugi element „simple_weights” (w zaokrągleniu do 1 miejsca po przecinku)?**"
   ]
  },
  {
   "cell_type": "code",
   "execution_count": 300,
   "metadata": {},
   "outputs": [
    {
     "name": "stdout",
     "output_type": "stream",
     "text": [
      "Otrzymane współczynniki przy pomocy pseudoodwrotności\n"
     ]
    },
    {
     "data": {
      "text/plain": [
       "array([-48257.06359103,    283.96855716])"
      ]
     },
     "execution_count": 300,
     "metadata": {},
     "output_type": "execute_result"
    }
   ],
   "source": [
    "simple_features = ['sqft_living']\n",
    "my_x_data = X_train[simple_features]\n",
    "\n",
    "ps =model_train(my_x_data, y_train)\n",
    "print(\"Otrzymane współczynniki przy pomocy pseudoodwrotności\")\n",
    "ps"
   ]
  },
  {
   "cell_type": "code",
   "execution_count": 234,
   "metadata": {},
   "outputs": [],
   "source": [
    "# odpowiedź quiz\n",
    "#dla metody spadku gradientu waga dla sqft_living wynosi około 283.5, zaś wag uzyskana pseudoodwrotności około 284\n",
    "# są więc one bardzo do siebie zbliżone, waga w0 dla obydwóch metod również jest bardzo podobna"
   ]
  },
  {
   "cell_type": "markdown",
   "metadata": {},
   "source": [
    "Zobacz jak się zachowuje metoda gradientowa po przeskalowaniu wartości cech:"
   ]
  },
  {
   "cell_type": "code",
   "execution_count": 301,
   "metadata": {},
   "outputs": [],
   "source": [
    "# dokonam przeskalowania skalarem MinMax"
   ]
  },
  {
   "cell_type": "code",
   "execution_count": 302,
   "metadata": {},
   "outputs": [],
   "source": [
    "from sklearn.preprocessing import MinMaxScaler\n",
    "standscaler = MinMaxScaler()\n",
    "\n",
    "# funkcja do przeskalowania wartosci X\n",
    "def get_numpy_data_scaler(train_data, simple_features):\n",
    "    \n",
    "    simple_feature_matrix = train_data[simple_features] \n",
    "    simple_feature_matrix[simple_features] = standscaler.fit_transform(simple_feature_matrix[simple_features])\n",
    "    simple_feature_matrix['X_0'] = 1\n",
    "    simple_features.insert(0, 'X_0')\n",
    "    simple_feature_matrix = simple_feature_matrix[simple_features]\n",
    "    simple_feature_matrix = np.array(simple_feature_matrix)\n",
    "\n",
    "    return(simple_feature_matrix)\n"
   ]
  },
  {
   "cell_type": "code",
   "execution_count": 303,
   "metadata": {},
   "outputs": [
    {
     "name": "stderr",
     "output_type": "stream",
     "text": [
      "<ipython-input-302-e85a6e44bcb6>:7: SettingWithCopyWarning: \n",
      "A value is trying to be set on a copy of a slice from a DataFrame.\n",
      "Try using .loc[row_indexer,col_indexer] = value instead\n",
      "\n",
      "See the caveats in the documentation: https://pandas.pydata.org/pandas-docs/stable/user_guide/indexing.html#returning-a-view-versus-a-copy\n",
      "  simple_feature_matrix[simple_features] = standscaler.fit_transform(simple_feature_matrix[simple_features])\n",
      "/opt/anaconda3/lib/python3.8/site-packages/pandas/core/indexing.py:1637: SettingWithCopyWarning: \n",
      "A value is trying to be set on a copy of a slice from a DataFrame\n",
      "\n",
      "See the caveats in the documentation: https://pandas.pydata.org/pandas-docs/stable/user_guide/indexing.html#returning-a-view-versus-a-copy\n",
      "  self._setitem_single_block(indexer, value, name)\n",
      "/opt/anaconda3/lib/python3.8/site-packages/pandas/core/indexing.py:692: SettingWithCopyWarning: \n",
      "A value is trying to be set on a copy of a slice from a DataFrame\n",
      "\n",
      "See the caveats in the documentation: https://pandas.pydata.org/pandas-docs/stable/user_guide/indexing.html#returning-a-view-versus-a-copy\n",
      "  iloc._setitem_with_indexer(indexer, value, self.name)\n",
      "<ipython-input-302-e85a6e44bcb6>:8: SettingWithCopyWarning: \n",
      "A value is trying to be set on a copy of a slice from a DataFrame.\n",
      "Try using .loc[row_indexer,col_indexer] = value instead\n",
      "\n",
      "See the caveats in the documentation: https://pandas.pydata.org/pandas-docs/stable/user_guide/indexing.html#returning-a-view-versus-a-copy\n",
      "  simple_feature_matrix['X_0'] = 1\n"
     ]
    },
    {
     "data": {
      "text/plain": [
       "array([[1.        , 0.09660377],\n",
       "       [1.        , 0.11245283],\n",
       "       [1.        , 0.06037736],\n",
       "       ...,\n",
       "       [1.        , 0.15622642],\n",
       "       [1.        , 0.15698113],\n",
       "       [1.        , 0.15773585]])"
      ]
     },
     "execution_count": 303,
     "metadata": {},
     "output_type": "execute_result"
    }
   ],
   "source": [
    "simple_features = ['sqft_living']\n",
    "my_output = y_train\n",
    "# przeskalowanie wartości X poprzez funkcje get_numpy_data_scaler:\n",
    "(simple_feature_matrix) = get_numpy_data_scaler(X_train, simple_features)\n",
    "initial_weights = np.array([-47000., 1.])\n",
    "step_size = 7e-12\n",
    "tolerance = 2.5e7\n",
    "\n",
    "simple_feature_matrix"
   ]
  },
  {
   "cell_type": "code",
   "execution_count": 304,
   "metadata": {},
   "outputs": [
    {
     "data": {
      "text/plain": [
       "array([[0.05508197],\n",
       "       [0.07344262],\n",
       "       [0.04032787],\n",
       "       ...,\n",
       "       [0.04668852],\n",
       "       [0.04406557],\n",
       "       [0.0819541 ]])"
      ]
     },
     "execution_count": 304,
     "metadata": {},
     "output_type": "execute_result"
    }
   ],
   "source": [
    "#przeskalowanie wartości Y:\n",
    "my_output = np.array(my_output)\n",
    "my_output = my_output.reshape(-1,1)\n",
    "my_output = standscaler.fit_transform(my_output)\n",
    "my_output"
   ]
  },
  {
   "cell_type": "code",
   "execution_count": null,
   "metadata": {},
   "outputs": [],
   "source": [
    "initial_weights = np.array([-47000., 1.])\n",
    "step_size = 7e-12\n",
    "tolerance = 2.5e7\n",
    "\n",
    "test_weight = regression_gradient_descent(simple_feature_matrix, my_output, initial_weights, step_size, tolerance)\n",
    "test_weight"
   ]
  },
  {
   "cell_type": "code",
   "execution_count": 251,
   "metadata": {},
   "outputs": [],
   "source": [
    "# powyższe polecenie test_weight uruchamia się, jednak zapętla się w programie i nie kończy \n",
    "#nie uzyskujemy odpowiedzi \n",
    "# oznacza to, że dla podanych danych gradient nigdy nie jest poniżej wartości tolerancji więc program \n",
    "# nie może się zakończyć"
   ]
  },
  {
   "cell_type": "code",
   "execution_count": 252,
   "metadata": {},
   "outputs": [],
   "source": [
    "# by móc uzyskać wynik powinniśmy zmienić wartości step_size i tolerance\n",
    "# jeśli prawidłowo dobralibyśmy wartość step_size to wartość tolerance powinna wyjść nam mała\n",
    "# ze względu na to, że sam gradient będzie o wiele mniejszy teraz po przeskalowaniu niż dla poprzednich wartości,\n",
    "# ponieważ cechy są o wiele mniejsze (stopy kwadratowe), a także wynik jest o wiele mniejszy (ceny). \n",
    "# co potwierdza fakt, że „tolerancja” jest zależna od wielkości cechy."
   ]
  },
  {
   "cell_type": "code",
   "execution_count": null,
   "metadata": {},
   "outputs": [],
   "source": [
    "#koniec"
   ]
  }
 ],
 "metadata": {
  "kernelspec": {
   "display_name": "Python 3",
   "language": "python",
   "name": "python3"
  },
  "language_info": {
   "codemirror_mode": {
    "name": "ipython",
    "version": 3
   },
   "file_extension": ".py",
   "mimetype": "text/x-python",
   "name": "python",
   "nbconvert_exporter": "python",
   "pygments_lexer": "ipython3",
   "version": "3.8.8"
  }
 },
 "nbformat": 4,
 "nbformat_minor": 1
}
