{
 "cells": [
  {
   "cell_type": "markdown",
   "metadata": {},
   "source": [
    "# PRiAD1 - test zaliczający\n",
    "\n",
    "Test obejmuje zagadnienia, których dotyczy skrypt PRiAD0 oraz PRiAD1"
   ]
  },
  {
   "cell_type": "markdown",
   "metadata": {},
   "source": [
    "> **Zadanie 1** Na podstawie ciągu znaków numeru indeksu wygeneruj liczbę kontrolną jako sumę cyfr numeru indeksu modulo 8"
   ]
  },
  {
   "cell_type": "code",
   "execution_count": 6,
   "metadata": {},
   "outputs": [
    {
     "name": "stdout",
     "output_type": "stream",
     "text": [
      "3\n"
     ]
    }
   ],
   "source": [
    "def l_kontrolna(numer_indeksu):\n",
    "    suma = 0\n",
    "    while (numer_indeksu > 0):\n",
    "        suma += numer_indeksu % 10\n",
    "        numer_indeksu = int(numer_indeksu / 10)\n",
    "\n",
    "    result = suma % 8\n",
    "    print(result)\n",
    "    return result\n",
    "\n",
    "\n",
    "k = l_kontrolna(307414)"
   ]
  },
  {
   "cell_type": "markdown",
   "metadata": {},
   "source": [
    "> **Zadanie 2** Wczytaj do ramki danych plik `daneX.csv` przy czym zamiast X wstaw otrzymaną w zadaniu 2 sumę kontrolną, wyświetl liczbę wierszy (obiektów), kolumn (atybutów) oraz podstawowe miary atrybutów (statystyki opisowe)"
   ]
  },
  {
   "cell_type": "code",
   "execution_count": 14,
   "metadata": {},
   "outputs": [
    {
     "name": "stdout",
     "output_type": "stream",
     "text": [
      "         atrybut1    atrybut2\n",
      "count  166.000000  166.000000\n",
      "mean    39.024096   32.518072\n",
      "std     25.625497   22.746488\n",
      "min      4.000000    1.000000\n",
      "25%     17.250000    9.000000\n",
      "50%     29.000000   32.500000\n",
      "75%     63.000000   44.750000\n",
      "max     88.000000   95.000000\n",
      "obiektów:\n",
      " atrybut1    166\n",
      "atrybut2    166\n",
      "klasa       166\n",
      "dtype: int64 ,atrybutów:\n",
      " 0      3\n",
      "1      3\n",
      "2      3\n",
      "3      3\n",
      "4      3\n",
      "      ..\n",
      "161    3\n",
      "162    3\n",
      "163    3\n",
      "164    3\n",
      "165    3\n",
      "Length: 166, dtype: int64\n"
     ]
    }
   ],
   "source": [
    "import pandas as pd\n",
    "import numpy as np\n",
    "\n",
    "# k przyjmuję jako 4, a nie 3 jak wyszło w zad1, poniewaz plik dane3.csv jest pusty, nie zawiera żadnych danych\n",
    "k= 4\n",
    "\n",
    "def ramka_danych():\n",
    "    s = \"dane\" + str(k) + \".csv\"\n",
    "    d = pd.read_csv(s)\n",
    "    ile_obiektow = d.count(0)\n",
    "    ile_atrybutow = d.count(1)\n",
    "    print(d.describe())\n",
    "    print(\"obiektów:\\n\", ile_obiektow, \",atrybutów:\\n\", ile_atrybutow)\n",
    "\n",
    "ramka_danych()"
   ]
  },
  {
   "cell_type": "markdown",
   "metadata": {},
   "source": [
    "> **Zadanie 3** Stwórz macierz o losowych wartościach wymiaru 20 x 3. Kolumny mają mieć nazwę `kol_1`, `kol_2`, `kol_3`. Napisz funkcję wstawiającą między kolumnę `kol_1`, a `kol_2`  kolumnę `kol_1_2` składającą się z wartości kolumny `kol_1` podniesionych do kwadratu, oraz na końcu kolumnę `kol_2_3` zawierającą iloczyn wyrazów kolumny `kol_2` i `kol_3`. "
   ]
  },
  {
   "cell_type": "code",
   "execution_count": 7,
   "metadata": {},
   "outputs": [
    {
     "name": "stdout",
     "output_type": "stream",
     "text": [
      "       kol_1   kol_1_2     kol_2     kol_3   kol_2_3\n",
      "0   0.046033  0.002119  0.077543  0.591029  0.045830\n",
      "1  -0.044253  0.001958  0.480385 -0.598763 -0.287637\n",
      "2   0.672370  0.452081  0.434608  0.465427  0.202278\n",
      "3   0.947101  0.897000 -1.707810  1.324169 -2.261430\n",
      "4  -0.931172  0.867080 -0.582152 -0.914230  0.532221\n",
      "5   0.306569  0.093985 -3.052310 -0.230409  0.703279\n",
      "6  -0.272148  0.074064 -1.500204  0.278244 -0.417423\n",
      "7  -0.102930  0.010595  1.230549 -0.538428 -0.662562\n",
      "8  -0.896186  0.803150 -1.324329 -1.114257  1.475643\n",
      "9  -0.293899  0.086377 -2.911674 -0.478008  1.391805\n",
      "10 -1.261168  1.590545  0.746311  0.946192  0.706153\n",
      "11  0.644421  0.415278  0.200133  1.179821  0.236121\n",
      "12 -1.137778  1.294539  0.790413  1.284101  1.014970\n",
      "13 -2.040335  4.162968 -0.318090 -0.572481  0.182100\n",
      "14 -1.319974  1.742331 -0.949622 -0.183775  0.174517\n",
      "15 -0.990174  0.980445 -0.136160 -0.658507  0.089662\n",
      "16  0.123097  0.015153 -0.260976  1.849966 -0.482796\n",
      "17  1.954594  3.820437  1.118696  1.670810  1.869128\n",
      "18 -0.635773  0.404207  0.171264  0.781268  0.133803\n",
      "19 -0.352394  0.124181 -1.208638 -0.604920  0.731129\n"
     ]
    }
   ],
   "source": [
    "df1 = pd.DataFrame(np.random.randn(20, 3), columns=['kol_1','kol_2','kol_3'])\n",
    "\n",
    "df1.insert(1,'kol_1_2', (df1['kol_1'])** 2 ,True)\n",
    "df1.insert(4,'kol_2_3', (df1['kol_2'])* (df1['kol_3']) ,True)\n",
    "print(df1)"
   ]
  },
  {
   "cell_type": "markdown",
   "metadata": {},
   "source": [
    "> **Zadanie 4** Zmień nazwę tego skryptu na następującą \"PRiAD1zal_Imię_Nazwisko.ipynb\" i wgraj wgraj go do ISOD-a we wskazane miejsce, nie przekraczając wyznaczonego terminu."
   ]
  },
  {
   "cell_type": "markdown",
   "metadata": {},
   "source": [
    "*Wersja na rok. akad. 20/21*"
   ]
  }
 ],
 "metadata": {
  "kernelspec": {
   "display_name": "Python 3",
   "language": "python",
   "name": "python3"
  },
  "language_info": {
   "codemirror_mode": {
    "name": "ipython",
    "version": 3
   },
   "file_extension": ".py",
   "mimetype": "text/x-python",
   "name": "python",
   "nbconvert_exporter": "python",
   "pygments_lexer": "ipython3",
   "version": "3.8.3"
  }
 },
 "nbformat": 4,
 "nbformat_minor": 4
}
